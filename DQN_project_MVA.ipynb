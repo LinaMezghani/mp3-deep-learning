{
 "cells": [
  {
   "cell_type": "markdown",
   "metadata": {
    "colab_type": "text",
    "id": "XFb0US8dSL-9"
   },
   "source": [
    "**You may need to install [OpenCV](https://pypi.python.org/pypi/opencv-python) and [scikit-video](http://www.scikit-video.org/stable/).**"
   ]
  },
  {
   "cell_type": "code",
   "execution_count": 1,
   "metadata": {
    "colab": {
     "base_uri": "https://localhost:8080/",
     "height": 190
    },
    "colab_type": "code",
    "id": "3blSD_2vSXl3",
    "outputId": "53a83fd3-1d7b-4616-d5e8-2e0975030ecf"
   },
   "outputs": [
    {
     "name": "stdout",
     "output_type": "stream",
     "text": [
      "Requirement already satisfied: scikit-video in /anaconda3/lib/python3.6/site-packages (1.1.11)\n",
      "Requirement already satisfied: scipy in /anaconda3/lib/python3.6/site-packages (from scikit-video) (1.1.0)\n",
      "Requirement already satisfied: pillow in /anaconda3/lib/python3.6/site-packages (from scikit-video) (5.3.0)\n",
      "Requirement already satisfied: numpy in /anaconda3/lib/python3.6/site-packages (from scikit-video) (1.15.3)\n",
      "\u001b[33mYou are using pip version 19.0.1, however version 19.0.3 is available.\n",
      "You should consider upgrading via the 'pip install --upgrade pip' command.\u001b[0m\n"
     ]
    }
   ],
   "source": [
    "!pip install scikit-video"
   ]
  },
  {
   "cell_type": "code",
   "execution_count": 2,
   "metadata": {
    "colab": {
     "base_uri": "https://localhost:8080/",
     "height": 34
    },
    "colab_type": "code",
    "id": "CMYChJtzSL-_",
    "outputId": "44a8dc63-32fd-4d39-d328-53e3c04a1070"
   },
   "outputs": [
    {
     "name": "stderr",
     "output_type": "stream",
     "text": [
      "Using TensorFlow backend.\n"
     ]
    }
   ],
   "source": [
    "import keras\n",
    "import numpy as np\n",
    "import io\n",
    "import base64\n",
    "from IPython.display import HTML\n",
    "import skvideo.io\n",
    "import cv2\n",
    "import json\n",
    "\n",
    "from keras.models import Sequential,model_from_json\n",
    "from keras.layers.core import Dense\n",
    "from keras.optimizers import sgd, Adam\n",
    "from keras.layers import Conv2D, MaxPooling2D, Activation, AveragePooling2D,Reshape,BatchNormalization, PReLU, Flatten"
   ]
  },
  {
   "cell_type": "markdown",
   "metadata": {
    "colab_type": "text",
    "id": "ZGh3gJDWSL_D"
   },
   "source": [
    "# MiniProject #3: Deep Reinforcement Learning"
   ]
  },
  {
   "cell_type": "markdown",
   "metadata": {
    "colab_type": "text",
    "id": "5PYTwv95SL_D"
   },
   "source": [
    "__Notations__: $E_p$ is the expectation under probability $p$. Please justify each of your answer and widely comment your code."
   ]
  },
  {
   "cell_type": "markdown",
   "metadata": {
    "colab_type": "text",
    "id": "EZQgQ6WnSL_E"
   },
   "source": [
    "# Context"
   ]
  },
  {
   "cell_type": "markdown",
   "metadata": {
    "colab_type": "text",
    "id": "TKwPbuH8SL_F"
   },
   "source": [
    "In a reinforcement learning algorithm, we modelize each step $t$ as an action $a_t$ obtained from a state $s_t$, i.e. $\\{(a_{t},s_{t})_{t\\leq T}\\}$ having the Markov property. We consider a discount factor $\\gamma \\in [0,1]$ that ensures convergence. The goal is to find among all the policies $\\pi$, one that maximizes the expected reward:\n",
    "\n",
    "\\begin{equation*}\n",
    "R(\\pi)=\\sum_{t\\leq T}E_{p^{\\pi}}[\\gamma^t r(s_{t},a_{t})] \\> ,\n",
    "\\end{equation*}\n",
    "\n",
    "where: \n",
    "\\begin{equation*}p^{\\pi}(a_{0},a_{1},s_{1},...,a_{T},s_{T})=p(a_{0})\\prod_{t=1}^{T}\\pi(a_{t}|s_{t})p(s_{t+1}|s_{t},a_{t}) \\> .\n",
    "\\end{equation*}\n",
    "\n",
    "We note the $Q$-function:\n",
    "\n",
    "\\begin{equation*}Q^\\pi(s,a)=E_{p^{\\pi}}[\\sum_{t\\leq T}\\gamma^{t}r(s_{t},a_{t})|s_{0}=s,a_{0}=a] \\> .\n",
    "\\end{equation*}\n",
    "\n",
    "Thus, the optimal Q function is:\n",
    "\\begin{equation*}\n",
    "Q^*(s,a)=\\max_{\\pi}Q^\\pi(s,a) \\> .\n",
    "\\end{equation*}\n",
    "\n",
    "In this project, we will apply the deep reinforcement learning techniques to a simple game: an agent will have to learn from scratch a policy that will permit it maximizing a reward."
   ]
  },
  {
   "cell_type": "markdown",
   "metadata": {
    "colab_type": "text",
    "id": "xeSYR_NOSL_G"
   },
   "source": [
    "## The environment, the agent and the game"
   ]
  },
  {
   "cell_type": "markdown",
   "metadata": {
    "colab_type": "text",
    "id": "VzBcYg7ESL_H"
   },
   "source": [
    "### The environment"
   ]
  },
  {
   "cell_type": "markdown",
   "metadata": {
    "colab_type": "text",
    "id": "MuYVM30GSL_I"
   },
   "source": [
    "```Environment``` is an abstract class that represents the states, rewards, and actions to obtain the new state."
   ]
  },
  {
   "cell_type": "code",
   "execution_count": 3,
   "metadata": {
    "colab": {},
    "colab_type": "code",
    "id": "oTVkUOlVSL_K"
   },
   "outputs": [],
   "source": [
    "class Environment(object):\n",
    "    def __init__(self):\n",
    "        pass\n",
    "\n",
    "    def act(self, act):\n",
    "        \"\"\"\n",
    "        One can act on the environment and obtain its reaction:\n",
    "        - the new state\n",
    "        - the reward of the new state\n",
    "        - should we continue the game?\n",
    "\n",
    "        :return: state, reward, game_over\n",
    "        \"\"\"\n",
    "        pass\n",
    "\n",
    "\n",
    "    def reset(self):\n",
    "        \"\"\"\n",
    "        Reinitialize the environment to a random state and returns\n",
    "        the original state\n",
    "\n",
    "        :return: state\n",
    "        \"\"\"\n",
    "        pass\n",
    "    \n",
    "    def draw(self):\n",
    "        \"\"\"\n",
    "        Visualize in the console or graphically the current state\n",
    "        \"\"\"\n",
    "        pass"
   ]
  },
  {
   "cell_type": "markdown",
   "metadata": {
    "colab_type": "text",
    "id": "2Cn3_dS6SL_N"
   },
   "source": [
    "The method ```act``` allows to act on the environment at a given state $s_t$ (stored internally), via action $a_t$. The method will return the new state $s_{t+1}$, the reward $r(s_{t},a_{t})$ and determines if $t\\leq T$ (*game_over*).\n",
    "\n",
    "The method ```reset``` simply reinitializes the environment to a random state $s_0$.\n",
    "\n",
    "The method ```draw``` displays the current state $s_t$ (this is useful to check the behavior of the Agent).\n",
    "\n",
    "We modelize $s_t$ as a tensor, while $a_t$ is an integer."
   ]
  },
  {
   "cell_type": "markdown",
   "metadata": {
    "colab_type": "text",
    "id": "aL_goH_dSL_O"
   },
   "source": [
    "### The Agent"
   ]
  },
  {
   "cell_type": "markdown",
   "metadata": {
    "colab_type": "text",
    "id": "IxUEWkx-SL_P"
   },
   "source": [
    "The goal of the ```Agent``` is to interact with the ```Environment``` by proposing actions $a_t$ obtained from a given state $s_t$ to attempt to maximize its __reward__ $r(s_t,a_t)$. We propose the following abstract class:"
   ]
  },
  {
   "cell_type": "code",
   "execution_count": 4,
   "metadata": {
    "colab": {},
    "colab_type": "code",
    "id": "_TmpIgm2SL_Q"
   },
   "outputs": [],
   "source": [
    "class Agent(object):\n",
    "    def __init__(self, epsilon=0.1, n_action=4):\n",
    "        self.epsilon = epsilon\n",
    "        self.n_action = n_action\n",
    "    \n",
    "    def set_epsilon(self,e):\n",
    "        self.epsilon = e\n",
    "\n",
    "    def act(self,s,train=True):\n",
    "        \"\"\" This function should return the next action to do:\n",
    "        an integer between 0 and 4 (not included) with a random exploration of epsilon\"\"\"\n",
    "        if train:\n",
    "            if np.random.rand() <= self.epsilon:\n",
    "                a = np.random.randint(0, self.n_action, size=1)[0]\n",
    "            else:\n",
    "                a = self.learned_act(s)\n",
    "        else: # in some cases, this can improve the performance.. remove it if poor performances\n",
    "            a = self.learned_act(s)\n",
    "\n",
    "        return a\n",
    "\n",
    "    def learned_act(self,s):\n",
    "        \"\"\" Act via the policy of the agent, from a given state s\n",
    "        it proposes an action a\"\"\"\n",
    "        pass\n",
    "\n",
    "    def reinforce(self, s, n_s, a, r, game_over_):\n",
    "        \"\"\" This function is the core of the learning algorithm. \n",
    "        It takes as an input the current state s_, the next state n_s_\n",
    "        the action a_ used to move from s_ to n_s_ and the reward r_.\n",
    "        \n",
    "        Its goal is to learn a policy.\n",
    "        \"\"\"\n",
    "        pass\n",
    "\n",
    "    def save(self):\n",
    "        \"\"\" This function returns basic stats if applicable: the\n",
    "        loss and/or the model\"\"\"\n",
    "        pass\n",
    "\n",
    "    def load(self):\n",
    "        \"\"\" This function allows to restore a model\"\"\"\n",
    "        pass"
   ]
  },
  {
   "cell_type": "markdown",
   "metadata": {
    "colab_type": "text",
    "id": "ufESBaa4SL_T"
   },
   "source": [
    "***\n",
    "__Question 1__:\n",
    "Explain the function act. Why is ```epsilon``` essential?"
   ]
  },
  {
   "cell_type": "markdown",
   "metadata": {
    "colab_type": "text",
    "id": "yvdjIOHFSL_T"
   },
   "source": [
    "> The function act returns the next action to do. \n",
    ">- If the agent is already trained, it chooses the \"best\" action (i.e. the one that was learned during the training phase in order to maximize the reward).\n",
    ">- If the agent is not trained yet, it will act with the \"best\" action with a probability $1-\\epsilon$ and will take a random action with a probability $\\epsilon$.\n",
    ">\n",
    "> Doing this during the training phase is essential in order to guarantee exploration: the agent must explore the actions in order to learn about them and improve its chances of getting future reward."
   ]
  },
  {
   "cell_type": "markdown",
   "metadata": {
    "colab_type": "text",
    "id": "NFuQincXSL_V"
   },
   "source": [
    "***\n",
    "### The Game"
   ]
  },
  {
   "cell_type": "markdown",
   "metadata": {
    "colab_type": "text",
    "id": "lTRrQa4ZSL_W"
   },
   "source": [
    "The ```Agent``` and the ```Environment``` work in an interlaced way as in the following (take some time to understand this code as it is the core of the project)\n",
    "\n",
    "```python\n",
    "\n",
    "epoch = 300\n",
    "env = Environment()\n",
    "agent = Agent()\n",
    "\n",
    "\n",
    "# Number of won games\n",
    "score = 0\n",
    "loss = 0\n",
    "\n",
    "\n",
    "for e in range(epoch):\n",
    "    # At each epoch, we restart to a fresh game and get the initial state\n",
    "    state = env.reset()\n",
    "    # This assumes that the games will end\n",
    "    game_over = False\n",
    "\n",
    "    win = 0\n",
    "    lose = 0\n",
    "    \n",
    "    while not game_over:\n",
    "        # The agent performs an action\n",
    "        action = agent.act(state)\n",
    "\n",
    "        # Apply an action to the environment, get the next state, the reward\n",
    "        # and if the games end\n",
    "        prev_state = state\n",
    "        state, reward, game_over = env.act(action)\n",
    "\n",
    "        # Update the counters\n",
    "        if reward > 0:\n",
    "            win = win + reward\n",
    "        if reward < 0:\n",
    "            lose = lose - reward\n",
    "\n",
    "        # Apply the reinforcement strategy\n",
    "        loss = agent.reinforce(prev_state, state,  action, reward, game_over)\n",
    "\n",
    "    # Save as a mp4\n",
    "    if e % 10 == 0:\n",
    "        env.draw(e)\n",
    "\n",
    "    # Update stats\n",
    "    score += win-lose\n",
    "\n",
    "    print(\"Epoch {:03d}/{:03d} | Loss {:.4f} | Win/lose count {}/{} ({})\"\n",
    "          .format(e, epoch, loss, win, lose, win-lose))\n",
    "    agent.save()\n",
    "```"
   ]
  },
  {
   "cell_type": "markdown",
   "metadata": {
    "colab_type": "text",
    "id": "ckkWWnzDSL_X"
   },
   "source": [
    "# The game, *eat cheese*"
   ]
  },
  {
   "cell_type": "markdown",
   "metadata": {
    "colab_type": "text",
    "id": "Bs0zy6XrSL_a"
   },
   "source": [
    "A rat runs on an island and tries to eat as much as possible. The island is subdivided into $N\\times N$ cells, in which there are cheese (+0.5) and poisonous cells (-1). The rat has a visibility of 2 cells (thus it can see $5^2$ cells). The rat is given a time $T$ to accumulate as much food as possible. It can perform 4 actions: going up, down, left, right. \n",
    "\n",
    "The goal is to code an agent to solve this task that will learn by trial and error. We propose the following environment:"
   ]
  },
  {
   "cell_type": "code",
   "execution_count": 5,
   "metadata": {
    "colab": {},
    "colab_type": "code",
    "id": "cSUlwZjjSL_a"
   },
   "outputs": [],
   "source": [
    "class Environment(object):\n",
    "    def __init__(self, grid_size=10, max_time=500, temperature=0.1):\n",
    "        grid_size = grid_size + 4\n",
    "        self.grid_size = grid_size\n",
    "        self.max_time = max_time\n",
    "        self.temperature = temperature\n",
    "\n",
    "        #board on which one plays\n",
    "        self.board = np.zeros((grid_size,grid_size))\n",
    "        self.position = np.zeros((grid_size,grid_size))\n",
    "\n",
    "        # coordinate of the cat\n",
    "        self.x = 0\n",
    "        self.y = 1\n",
    "\n",
    "        # self time\n",
    "        self.t = 0\n",
    "\n",
    "        self.scale=16\n",
    "\n",
    "        self.to_draw = np.zeros((max_time+2, grid_size*self.scale, grid_size*self.scale, 3))\n",
    "\n",
    "\n",
    "    def draw(self,e):\n",
    "        skvideo.io.vwrite(str(e) + '.mp4', self.to_draw)\n",
    "\n",
    "    def get_frame(self,t):\n",
    "        b = np.zeros((self.grid_size,self.grid_size,3))+128\n",
    "        b[self.board>0,0] = 256\n",
    "        b[self.board < 0, 2] = 256\n",
    "        b[self.x,self.y,:]=256\n",
    "        b[-2:,:,:]=0\n",
    "        b[:,-2:,:]=0\n",
    "        b[:2,:,:]=0\n",
    "        b[:,:2,:]=0\n",
    "        \n",
    "        b =  cv2.resize(b, None, fx=self.scale, fy=self.scale, interpolation=cv2.INTER_NEAREST)\n",
    "\n",
    "        self.to_draw[t,:,:,:]=b\n",
    "\n",
    "\n",
    "    def act(self, action):\n",
    "        \"\"\"This function returns the new state, reward and decides if the\n",
    "        game ends.\"\"\"\n",
    "\n",
    "        self.get_frame(int(self.t))\n",
    "\n",
    "        self.position = np.zeros((self.grid_size, self.grid_size))\n",
    "\n",
    "        self.position[0:2,:]= -1\n",
    "        self.position[:,0:2] = -1\n",
    "        self.position[-2:, :] = -1\n",
    "        self.position[-2:, :] = -1\n",
    "\n",
    "        self.position[self.x, self.y] = 1\n",
    "        if action == 0:\n",
    "            if self.x == self.grid_size-3:\n",
    "                self.x = self.x-1\n",
    "            else:\n",
    "                self.x = self.x + 1\n",
    "        elif action == 1:\n",
    "            if self.x == 2:\n",
    "                self.x = self.x+1\n",
    "            else:\n",
    "                self.x = self.x-1\n",
    "        elif action == 2:\n",
    "            if self.y == self.grid_size - 3:\n",
    "                self.y = self.y - 1\n",
    "            else:\n",
    "                self.y = self.y + 1\n",
    "        elif action == 3:\n",
    "            if self.y == 2:\n",
    "                self.y = self.y + 1\n",
    "            else:\n",
    "                self.y = self.y - 1\n",
    "        else:\n",
    "            RuntimeError('Error: action not recognized')\n",
    "\n",
    "        self.t = self.t + 1\n",
    "        reward = self.board[self.x, self.y]\n",
    "        self.board[self.x, self.y] = 0\n",
    "        game_over = self.t > self.max_time\n",
    "        state = np.concatenate((self.board.reshape(self.grid_size, self.grid_size,1),\n",
    "                        self.position.reshape(self.grid_size, self.grid_size,1)),axis=2)\n",
    "        state = state[self.x-2:self.x+3,self.y-2:self.y+3,:]\n",
    "\n",
    "        return state, reward, game_over\n",
    "\n",
    "    def reset(self):\n",
    "        \"\"\"This function resets the game and returns the initial state\"\"\"\n",
    "\n",
    "        self.x = np.random.randint(3, self.grid_size-3, size=1)[0]\n",
    "        self.y = np.random.randint(3, self.grid_size-3, size=1)[0]\n",
    "\n",
    "\n",
    "        bonus = 0.5*np.random.binomial(1,self.temperature,size=self.grid_size**2)\n",
    "        bonus = bonus.reshape(self.grid_size,self.grid_size)\n",
    "\n",
    "        malus = -1.0*np.random.binomial(1,self.temperature,size=self.grid_size**2)\n",
    "        malus = malus.reshape(self.grid_size, self.grid_size)\n",
    "\n",
    "        self.to_draw = np.zeros((self.max_time+2, self.grid_size*self.scale, self.grid_size*self.scale, 3))\n",
    "\n",
    "\n",
    "        malus[bonus>0]=0\n",
    "\n",
    "        self.board = bonus + malus\n",
    "\n",
    "        self.position = np.zeros((self.grid_size, self.grid_size))\n",
    "        self.position[0:2,:]= -1\n",
    "        self.position[:,0:2] = -1\n",
    "        self.position[-2:, :] = -1\n",
    "        self.position[-2:, :] = -1\n",
    "        self.board[self.x,self.y] = 0\n",
    "        self.t = 0\n",
    "\n",
    "        state = np.concatenate((\n",
    "                               self.board.reshape(self.grid_size, self.grid_size,1),\n",
    "                        self.position.reshape(self.grid_size, self.grid_size,1)),axis=2)\n",
    "\n",
    "        state = state[self.x - 2:self.x + 3, self.y - 2:self.y + 3, :]\n",
    "        return state"
   ]
  },
  {
   "cell_type": "markdown",
   "metadata": {
    "colab_type": "text",
    "id": "QV8Iv9Q5SL_e"
   },
   "source": [
    "The following elements are important because they correspond to the hyper parameters for this project:"
   ]
  },
  {
   "cell_type": "code",
   "execution_count": 9,
   "metadata": {
    "colab": {},
    "colab_type": "code",
    "id": "DhDtGRgWSL_g"
   },
   "outputs": [],
   "source": [
    "# parameters\n",
    "size = 13\n",
    "T=200\n",
    "temperature=0.3\n",
    "epochs_train= 10 # set small when debugging\n",
    "epochs_test= 10 # set small when debugging\n",
    "\n",
    "# display videos\n",
    "def display_videos(name):\n",
    "    video = io.open(name, 'r+b').read()\n",
    "    encoded = base64.b64encode(video)\n",
    "    return '''<video alt=\"test\" controls>\n",
    "                <source src=\"data:video/mp4;base64,{0}\" type=\"video/mp4\" />\n",
    "             </video>'''.format(encoded.decode('ascii'))"
   ]
  },
  {
   "cell_type": "markdown",
   "metadata": {
    "colab_type": "text",
    "id": "v21BkySCSL_i"
   },
   "source": [
    "__Question 2__ Explain the use of the arrays ```position``` and ```board```."
   ]
  },
  {
   "cell_type": "markdown",
   "metadata": {
    "colab_type": "text",
    "id": "XF8YN2EjSL_j"
   },
   "source": [
    ">We can first notice that lines and columns are added at the border of the arrays ```position``` and ```board``` so that the grid seen by the mouse is always of size 5x5 (even if the mouse is at the limit of the grid). \n",
    ">\n",
    ">In these margins, the value of ```position``` is set to -1, meaning that the position is invalid. Furthermore, the ```position``` array is set to 1 in x,y and 0 otherwise. \n",
    ">\n",
    ">The array ```board``` contains the reward associated to each position (+0.5 for cheese, -1 for poison and 0 for empty or margin slot)"
   ]
  },
  {
   "cell_type": "markdown",
   "metadata": {
    "colab_type": "text",
    "id": "ARQlavq1SL_k"
   },
   "source": [
    "## Random Agent"
   ]
  },
  {
   "cell_type": "markdown",
   "metadata": {
    "colab_type": "text",
    "id": "V3dQZ_jISL_l"
   },
   "source": [
    "***\n",
    "__Question 3__ Implement a random Agent (only ```learned_act``` needs to be implemented):"
   ]
  },
  {
   "cell_type": "code",
   "execution_count": 7,
   "metadata": {
    "colab": {},
    "colab_type": "code",
    "id": "NvJjr_Z6SL_n"
   },
   "outputs": [],
   "source": [
    "class RandomAgent(Agent):\n",
    "    def __init__(self):\n",
    "        super(RandomAgent, self).__init__()\n",
    "        pass\n",
    "\n",
    "    def learned_act(self, s):\n",
    "        return np.random.randint(0, self.n_action, size=1)[0]"
   ]
  },
  {
   "cell_type": "markdown",
   "metadata": {
    "colab_type": "text",
    "id": "Zsc9cMpYSL_p"
   },
   "source": [
    "***\n",
    "***\n",
    "__Question 4__ Visualize the game moves. You need to fill in the following function for the evaluation:"
   ]
  },
  {
   "cell_type": "code",
   "execution_count": 8,
   "metadata": {
    "colab": {},
    "colab_type": "code",
    "id": "hwAvR4YOSL_q"
   },
   "outputs": [],
   "source": [
    "def test(agent,env,epochs,prefix=''):\n",
    "    # Number of won games\n",
    "    score = 0\n",
    "        \n",
    "    for e in range(epochs):\n",
    "        \n",
    "        ##### FILL IN HERE\n",
    "        \n",
    "        # At each epoch, we restart to a fresh game and get the initial state\n",
    "        state = env.reset()\n",
    "        # This assumes that the games will end\n",
    "        game_over = False\n",
    "\n",
    "        win = 0\n",
    "        lose = 0\n",
    "\n",
    "        while not game_over:\n",
    "            # The agent performs an action\n",
    "            action = agent.act(state)\n",
    "\n",
    "            # Apply an action to the environment, get the next state, the reward\n",
    "            # and if the games end\n",
    "            prev_state = state\n",
    "            state, reward, game_over = env.act(action)\n",
    "\n",
    "            # Update the counters\n",
    "            if reward > 0:\n",
    "                win = win + reward\n",
    "            if reward < 0:\n",
    "                lose = lose - reward\n",
    "\n",
    "        \n",
    "        # Save as a mp4\n",
    "        env.draw(prefix+str(e))\n",
    "\n",
    "        # Update stats\n",
    "        score = score + win - lose\n",
    "\n",
    "        print(\"Win/lose count {}/{}. Average score ({})\"\n",
    "              .format(win, lose, score/(1+e)))\n",
    "    print('Final score: '+str(score/epochs))\n",
    "    \n",
    "    \n",
    "    "
   ]
  },
  {
   "cell_type": "code",
   "execution_count": 10,
   "metadata": {
    "colab": {
     "base_uri": "https://localhost:8080/",
     "height": 327
    },
    "colab_type": "code",
    "id": "DfpMm5TfSL_t",
    "outputId": "f62ad46a-b9ab-42c2-b0aa-1fe8171635d9"
   },
   "outputs": [
    {
     "name": "stdout",
     "output_type": "stream",
     "text": [
      "Win/lose count 6.0/12.0. Average score (-6.0)\n",
      "Win/lose count 9.0/12.0. Average score (-4.5)\n",
      "Win/lose count 10.0/11.0. Average score (-3.3333333333333335)\n",
      "Win/lose count 9.0/18.0. Average score (-4.75)\n",
      "Win/lose count 7.5/11.0. Average score (-4.5)\n",
      "Win/lose count 5.5/8.0. Average score (-4.166666666666667)\n",
      "Win/lose count 12.5/15.0. Average score (-3.9285714285714284)\n",
      "Win/lose count 7.0/13.0. Average score (-4.1875)\n",
      "Win/lose count 5.5/13.0. Average score (-4.555555555555555)\n",
      "Win/lose count 13.5/13.0. Average score (-4.05)\n",
      "Final score: -4.05\n"
     ]
    },
    {
     "data": {
      "text/html": [
       "<video alt=\"test\" controls>\n",
       "                <source src=\"data:video/mp4;base64,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\" type=\"video/mp4\" />\n",
       "             </video>"
      ],
      "text/plain": [
       "<IPython.core.display.HTML object>"
      ]
     },
     "execution_count": 10,
     "metadata": {},
     "output_type": "execute_result"
    }
   ],
   "source": [
    "# Initialize the game\n",
    "env = Environment(grid_size=size, max_time=T,temperature=temperature)\n",
    "\n",
    "# Initialize the agent!\n",
    "agent = RandomAgent()\n",
    "\n",
    "test(agent,env,epochs_test,prefix='random')\n",
    "HTML(display_videos('random0.mp4'))"
   ]
  },
  {
   "cell_type": "markdown",
   "metadata": {
    "colab_type": "text",
    "id": "yXFhiISCSL_0"
   },
   "source": [
    "***\n",
    "## DQN"
   ]
  },
  {
   "cell_type": "markdown",
   "metadata": {
    "colab_type": "text",
    "id": "scBEvz2SSL_1"
   },
   "source": [
    "Let us assume here that $T=\\infty$.\n",
    "\n",
    "***\n",
    "__Question 5__ Let $\\pi$ be a policy, show that:\n",
    "\n",
    "\\begin{equation*}\n",
    "Q^{\\pi}(s,a)=E_{(s',a')\\sim p(.|s,a)}[r(s,a)+\\gamma Q^{\\pi}(s',a')]\n",
    "\\end{equation*}\n",
    "\n",
    "Then, show that for the optimal policy $\\pi^*$ (we assume its existence), the following holds: \n",
    "\n",
    "\\begin{equation*}\n",
    "Q^{*}(s,a)=E_{s'\\sim \\pi^*(.|s,a)}[r(s,a)+\\gamma\\max_{a'}Q^{*}(s',a')].\n",
    "\\end{equation*}\n",
    "Finally, deduce that a plausible objective is:\n",
    "\n",
    "\\begin{equation*}\n",
    "\\mathcal{L}(\\theta)=E_{s' \\sim \\pi^*(.|s,a)}\\Vert r+\\gamma\\max\\max_{a'}Q(s',a',\\theta)-Q(s,a,\\theta)\\Vert^{2}.\n",
    "\\end{equation*}\n",
    "\n",
    "\n"
   ]
  },
  {
   "cell_type": "markdown",
   "metadata": {
    "colab_type": "text",
    "id": "aaRsBRFESL_2"
   },
   "source": [
    ">We have that : $$Q^\\pi(s,a)=E_{p^{\\pi}}[\\sum_{t\\leq \\infty}\\gamma^{t}r(s_{t},a_{t})|s_{0}=s,a_{0}=a] \\> $$\n",
    ">\n",
    ">thus, $$ Q^\\pi(s,a)=r(s, a) + E_{p^{\\pi}}[\\sum_{1\\leq t\\leq \\infty}\\gamma^{t}r(s_{t},a_{t})|s_{0}=s,a_{0}=a]$$\n",
    ">\n",
    ">$$ Q^\\pi(s,a)=r(s, a) + E_{(s',a')\\sim p(.|s,a)}[E_{p^\\pi}[\\sum_{1\\leq t\\leq \\infty}\\gamma^{t}r(s_{t},a_{t})|s_{1}=s',a_{1}=a']|s_0=s, a_0=a]$$\n",
    ">\n",
    ">$$ Q^\\pi(s,a)=r(s, a) + E_{(s',a')\\sim p(.|s,a)}[E_{p^\\pi}[\\sum_{1\\leq t\\leq \\infty}\\gamma^{t}r(s_{t},a_{t})|s_{1}=s',a_{1}=a']]$$\n",
    ">\n",
    ">$$ Q^\\pi(s,a)=r(s, a) + E_{(s',a')\\sim p(.|s,a)}[E_{p^\\pi}[\\sum_{0\\leq t\\leq \\infty}\\gamma^{t+1}r(s_{t},a_{t})|s_{0}=s',a_{0}=a']]$$\n",
    ">\n",
    ">$$ Q^\\pi(s,a)=r(s, a) + E_{(s',a')\\sim p(.|s,a)}[\\gamma Q^{\\pi}(s', a')]$$\n",
    ">\n",
    ">so finally : $$Q^{\\pi}(s,a)=E_{(s',a')\\sim p(.|s,a)}[r(s,a)+\\gamma Q^{\\pi}(s',a')]$$ which shows the first question.\n",
    ">\n",
    ">Then, we have $$Q^{\\pi}(s,a) = r(s,a) + \\gamma \\sum_{s^{'}}p(s^{'}|s,a) Q^{\\pi}(s^{'},\\pi(s^{'}))$$\n",
    ">\n",
    ">by taking the max over all policies $pi$, we get :\n",
    ">\n",
    ">\\begin{align*}\n",
    "    Q^{*}(s,a) &= r(s,a) + \\gamma \\max_{\\pi} \\sum_{s'}p(s^{'}|s,a) Q^{\\pi}(s^{'},\\pi(s^{'})) \\\\\n",
    "               &= r(s,a) + \\gamma \\sum_{s^{'}}p(s^{'}|s,a) max_{\\pi} Q^{\\pi}(s^{'},\\pi(s^{'})) \\\\\n",
    "               &= r(s,a) + \\gamma \\sum_{s^{'}}p(s^{'}|s,a) Q^{*}(s^{'},\\pi^{*}(s^{'})) \\\\\n",
    "               &= r(s,a) + \\gamma \\sum_{s^{'}}p(s^{'}|s,a) max_{a^{'}}Q^{*}(s^{'},a^{'}) \\\\\n",
    "               &= r(s,a) + \\gamma E_{s^{'}\\sim p(.|s,a)}[max_{a^{'}}Q^{*}(s^{'},a^{'})]\n",
    "\\end{align*}\n",
    ">\n",
    ">which shows the second point.\n",
    ">\n",
    ">We parametrize $Q$ by $\\theta$, and we want to find that $\\theta$ >that minimizes the following equation :\n",
    ">\n",
    ">$$\\mathcal{L}(\\theta)= (Q^{*}(s,a)-Q_{\\theta}(s,a))^{2}$$\n",
    ">\n",
    ">But since $Q^{*}$ is unknownwe approximate it by its one-step estimate $y_{t} = r(s,a) +\\gamma E_{s^{'}\\sim p(.|s,a)}[\\max_{a'}Q_{\\theta_{t}}(s',a')]$.\n",
    ">\n",
    ">We obtain the following equation :\n",
    ">\n",
    ">$$\\mathcal{L}(\\theta_{t+1})=E_{\\mathcal{D}}[(y_{t}-Q_{\\theta_{t+1}}(s,a))^{2}]$$ from which we deduce the final point.\n"
   ]
  },
  {
   "cell_type": "markdown",
   "metadata": {
    "colab_type": "text",
    "id": "QkHOr-EqSL_4"
   },
   "source": [
    "***\n",
    "The DQN-learning algorithm relies on these derivations to train the parameters $\\theta$ of a Deep Neural Network:\n",
    "\n",
    "1. At the state $s_t$, select the action $a_t$ with best reward using $Q_t$ and store the results;\n",
    "\n",
    "2. Obtain the new state $s_{t+1}$ from the environment $p$;\n",
    "\n",
    "3. Store $(s_t,a_t,s_{t+1})$;\n",
    "\n",
    "4. Obtain $Q_{t+1}$ by minimizing  $\\mathcal{L}$ from a recovered batch from the previously stored results.\n",
    "\n",
    "***\n",
    "__Question 6__ Implement the class ```Memory``` that stores moves (in a replay buffer) via ```remember``` and provides a ```random_access``` to these. Specify a maximum memory size to avoid side effects. You can for example use a ```list()``` and set by default ```max_memory=100```."
   ]
  },
  {
   "cell_type": "code",
   "execution_count": 11,
   "metadata": {
    "colab": {},
    "colab_type": "code",
    "id": "P9cHs48hSL_5"
   },
   "outputs": [],
   "source": [
    "class Memory(object):\n",
    "    def __init__(self, max_memory=100):\n",
    "        self.max_memory = max_memory\n",
    "        self.memory = list()\n",
    "\n",
    "    def remember(self, m):\n",
    "        self.memory.append(m)\n",
    "        if len(self.memory) > self.max_memory:\n",
    "            del self.memory[0]\n",
    "\n",
    "    def random_access(self):\n",
    "        return self.memory[np.random.choice(len(self.memory))]"
   ]
  },
  {
   "cell_type": "markdown",
   "metadata": {
    "colab_type": "text",
    "id": "4Uszy_v0SL_-"
   },
   "source": [
    "***\n",
    "The pipeline we will use for training is given below:"
   ]
  },
  {
   "cell_type": "code",
   "execution_count": 12,
   "metadata": {
    "colab": {},
    "colab_type": "code",
    "id": "BwHWLrodSL_-"
   },
   "outputs": [],
   "source": [
    "def train(agent,env,epoch,prefix=''):\n",
    "    # Number of won games\n",
    "    score = 0\n",
    "    loss = 0\n",
    "\n",
    "    for e in range(epoch):\n",
    "        # At each epoch, we restart to a fresh game and get the initial state\n",
    "        state = env.reset()\n",
    "        # This assumes that the games will terminate\n",
    "        game_over = False\n",
    "\n",
    "        win = 0\n",
    "        lose = 0\n",
    "\n",
    "        while not game_over:\n",
    "            # The agent performs an action\n",
    "            action = agent.act(state)\n",
    "\n",
    "            # Apply an action to the environment, get the next state, the reward\n",
    "            # and if the games end\n",
    "            prev_state = state\n",
    "            state, reward, game_over = env.act(action)\n",
    "\n",
    "            # Update the counters\n",
    "            if reward > 0:\n",
    "                win = win + reward\n",
    "            if reward < 0:\n",
    "                lose = lose - reward\n",
    "\n",
    "            # Apply the reinforcement strategy\n",
    "            loss = agent.reinforce(prev_state, state,  action, reward, game_over)\n",
    "\n",
    "        # Save as a mp4\n",
    "        if e % 10 == 0:\n",
    "            env.draw(prefix+str(e))\n",
    "\n",
    "        # Update stats\n",
    "        score += win-lose\n",
    "\n",
    "        print(\"Epoch {:03d}/{:03d} | Loss {:.4f} | Win/lose count {}/{} ({})\"\n",
    "              .format(e, epoch, loss, win, lose, win-lose))\n",
    "        agent.save(name_weights=prefix+'model.h5',name_model=prefix+'model.json')"
   ]
  },
  {
   "cell_type": "markdown",
   "metadata": {
    "colab_type": "text",
    "id": "_yvM6YUZSMAG"
   },
   "source": [
    "***\n",
    "__Question 7__ Implement the DQN training algorithm using a cascade of fully connected layers. You can use different learning rate, batch size or memory size parameters. In particular, the loss might oscillate while the player will start to win the games. You have to find a good criterium."
   ]
  },
  {
   "cell_type": "code",
   "execution_count": 13,
   "metadata": {
    "colab": {},
    "colab_type": "code",
    "id": "l2qscWokSMAH"
   },
   "outputs": [],
   "source": [
    "class DQN(Agent):\n",
    "    def __init__(self, grid_size,  epsilon = 0.1, memory_size=100, batch_size = 16,n_state=2):\n",
    "        super(DQN, self).__init__(epsilon = epsilon)\n",
    "\n",
    "        # Discount for Q learning\n",
    "        self.discount = 0.99\n",
    "        \n",
    "        self.grid_size = grid_size\n",
    "        \n",
    "        # number of state\n",
    "        self.n_state = n_state\n",
    "\n",
    "        # Memory\n",
    "        self.memory = Memory(memory_size)\n",
    "        \n",
    "        # Batch size when learning\n",
    "        self.batch_size = batch_size\n",
    "\n",
    "    def learned_act(self, s):\n",
    "        return np.argmax(self.model.predict(s.reshape((1,5,5,self.n_state))))\n",
    "\n",
    "    def reinforce(self, s_, n_s_, a_, r_, game_over_):\n",
    "        # Two steps: first memorize the states, second learn from the pool\n",
    "\n",
    "        self.memory.remember([s_, n_s_, a_, r_, game_over_])\n",
    "        \n",
    "        input_states = np.zeros((self.batch_size,5,5,self.n_state))\n",
    "        target_q = np.zeros((self.batch_size, 4))\n",
    "        \n",
    "        for i in range(self.batch_size):\n",
    "            ######## FILL IN\n",
    "            s_, n_s_, a_, r_, game_over_ = self.memory.random_access()\n",
    "            input_states[i] = s_\n",
    "            \n",
    "            target_q[i] = self.model.predict(s_.reshape((1,5,5,self.n_state)))\n",
    "            Q_sa = np.max(self.model.predict(n_s_.reshape((1,5,5,self.n_state))))\n",
    "            \n",
    "            if game_over_:\n",
    "                ######## FILL IN\n",
    "                target_q[i, a_] = r_\n",
    "            else:\n",
    "                ######## FILL IN\n",
    "                target_q[i, a_] = r_ + self.discount*Q_sa\n",
    "                \n",
    "                \n",
    "        ######## FILL IN\n",
    "        \n",
    "        # HINT: Clip the target to avoid exploiding gradients.. -- clipping is a bit tighter\n",
    "        target_q = np.clip(target_q, -3, 3)\n",
    "        \n",
    "        l = self.model.train_on_batch(input_states, target_q)\n",
    "        \n",
    "        return l\n",
    "\n",
    "    def save(self,name_weights='model.h5',name_model='model.json'):\n",
    "        self.model.save_weights(name_weights, overwrite=True)\n",
    "        with open(name_model, \"w\") as outfile:\n",
    "            json.dump(self.model.to_json(), outfile)\n",
    "            \n",
    "    def load(self,name_weights='model.h5',name_model='model.json'):\n",
    "        with open(name_model, \"r\") as jfile:\n",
    "            model = model_from_json(json.load(jfile))\n",
    "        model.load_weights(name_weights)\n",
    "        model.compile(\"sgd\", \"mse\")\n",
    "        self.model = model\n",
    "\n",
    "            \n",
    "class DQN_FC(DQN):\n",
    "    def __init__(self, *args, lr=0.1,**kwargs):\n",
    "        super(DQN_FC, self).__init__( *args,**kwargs)\n",
    "        \n",
    "        # NN Model\n",
    "        \n",
    "        ####### FILL IN\n",
    "        model = Sequential()\n",
    "        model.add(Flatten(input_shape=(5,5,self.n_state)))\n",
    "        model.add(Dense(24, activation='relu'))\n",
    "        model.add(Dense(24, activation='relu'))\n",
    "        model.add(Dense(4, activation='linear'))\n",
    "        model.compile(loss='mse', optimizer=Adam(lr=lr))\n",
    "        #model.summary()\n",
    "        self.model = model"
   ]
  },
  {
   "cell_type": "code",
   "execution_count": 15,
   "metadata": {
    "colab": {
     "base_uri": "https://localhost:8080/",
     "height": 1068
    },
    "colab_type": "code",
    "id": "3jHlb4HASMAL",
    "outputId": "988ac471-015a-4275-9a2b-9049d4dfb8fe"
   },
   "outputs": [
    {
     "name": "stdout",
     "output_type": "stream",
     "text": [
      "Epoch 000/051 | Loss 0.0031 | Win/lose count 3.5/5.0 (-1.5)\n",
      "Epoch 001/051 | Loss 0.0214 | Win/lose count 3.0/4.0 (-1.0)\n",
      "Epoch 002/051 | Loss 0.0082 | Win/lose count 6.0/5.0 (1.0)\n",
      "Epoch 003/051 | Loss 0.0018 | Win/lose count 1.5/5.0 (-3.5)\n",
      "Epoch 004/051 | Loss 0.0025 | Win/lose count 4.5/3.0 (1.5)\n",
      "Epoch 005/051 | Loss 0.0018 | Win/lose count 3.0/4.0 (-1.0)\n",
      "Epoch 006/051 | Loss 0.0069 | Win/lose count 2.5/5.0 (-2.5)\n",
      "Epoch 007/051 | Loss 0.0053 | Win/lose count 3.5/3.0 (0.5)\n",
      "Epoch 008/051 | Loss 0.0024 | Win/lose count 8.0/5.0 (3.0)\n",
      "Epoch 009/051 | Loss 0.0044 | Win/lose count 7.5/5.0 (2.5)\n",
      "Epoch 010/051 | Loss 0.0059 | Win/lose count 8.0/3.0 (5.0)\n",
      "Epoch 011/051 | Loss 0.0058 | Win/lose count 5.0/5.0 (0.0)\n",
      "Epoch 012/051 | Loss 0.0562 | Win/lose count 8.5/2.0 (6.5)\n",
      "Epoch 013/051 | Loss 0.0032 | Win/lose count 7.5/3.0 (4.5)\n",
      "Epoch 014/051 | Loss 0.0410 | Win/lose count 9.5/7.0 (2.5)\n",
      "Epoch 015/051 | Loss 0.0054 | Win/lose count 9.5/5.0 (4.5)\n",
      "Epoch 016/051 | Loss 0.0499 | Win/lose count 9.0/4.0 (5.0)\n",
      "Epoch 017/051 | Loss 0.0032 | Win/lose count 9.0/4.0 (5.0)\n",
      "Epoch 018/051 | Loss 0.0065 | Win/lose count 7.0/3.0 (4.0)\n",
      "Epoch 019/051 | Loss 0.0040 | Win/lose count 6.5/2.0 (4.5)\n",
      "Epoch 020/051 | Loss 0.0044 | Win/lose count 8.5/5.0 (3.5)\n",
      "Epoch 021/051 | Loss 0.0029 | Win/lose count 8.5/1.0 (7.5)\n",
      "Epoch 022/051 | Loss 0.0020 | Win/lose count 3.0/5.0 (-2.0)\n",
      "Epoch 023/051 | Loss 0.0031 | Win/lose count 13.0/4.0 (9.0)\n",
      "Epoch 024/051 | Loss 0.0400 | Win/lose count 11.5/4.0 (7.5)\n",
      "Epoch 025/051 | Loss 0.0014 | Win/lose count 0/1.0 (-1.0)\n",
      "Epoch 026/051 | Loss 0.0055 | Win/lose count 12.5/2.0 (10.5)\n",
      "Epoch 027/051 | Loss 0.0051 | Win/lose count 11.0/3.0 (8.0)\n",
      "Epoch 028/051 | Loss 0.0063 | Win/lose count 11.0/4.0 (7.0)\n",
      "Epoch 029/051 | Loss 0.0645 | Win/lose count 10.0/3.0 (7.0)\n",
      "Epoch 030/051 | Loss 0.0034 | Win/lose count 13.5/7.0 (6.5)\n",
      "Epoch 031/051 | Loss 0.0074 | Win/lose count 13.0/4.0 (9.0)\n",
      "Epoch 032/051 | Loss 0.0050 | Win/lose count 5.0/3.0 (2.0)\n",
      "Epoch 033/051 | Loss 0.0594 | Win/lose count 15.0/4.0 (11.0)\n",
      "Epoch 034/051 | Loss 0.0024 | Win/lose count 13.5/4.0 (9.5)\n",
      "Epoch 035/051 | Loss 0.0027 | Win/lose count 8.5/3.0 (5.5)\n",
      "Epoch 036/051 | Loss 0.0057 | Win/lose count 7.5/5.0 (2.5)\n",
      "Epoch 037/051 | Loss 0.0689 | Win/lose count 15.5/4.0 (11.5)\n",
      "Epoch 038/051 | Loss 0.0041 | Win/lose count 17.5/3.0 (14.5)\n",
      "Epoch 039/051 | Loss 0.0040 | Win/lose count 12.5/1.0 (11.5)\n",
      "Epoch 040/051 | Loss 0.0035 | Win/lose count 17.0/2.0 (15.0)\n",
      "Epoch 041/051 | Loss 0.0231 | Win/lose count 9.5/5.0 (4.5)\n",
      "Epoch 042/051 | Loss 0.0086 | Win/lose count 10.0/1.0 (9.0)\n",
      "Epoch 043/051 | Loss 0.0415 | Win/lose count 8.0/0 (8.0)\n",
      "Epoch 044/051 | Loss 0.0041 | Win/lose count 8.5/5.0 (3.5)\n",
      "Epoch 045/051 | Loss 0.0553 | Win/lose count 15.5/3.0 (12.5)\n",
      "Epoch 046/051 | Loss 0.0034 | Win/lose count 7.0/2.0 (5.0)\n",
      "Epoch 047/051 | Loss 0.0016 | Win/lose count 10.0/2.0 (8.0)\n",
      "Epoch 048/051 | Loss 0.0027 | Win/lose count 11.0/4.0 (7.0)\n",
      "Epoch 049/051 | Loss 0.0017 | Win/lose count 7.0/2.0 (5.0)\n",
      "Epoch 050/051 | Loss 0.0090 | Win/lose count 4.5/1.0 (3.5)\n"
     ]
    },
    {
     "data": {
      "text/html": [
       "<video alt=\"test\" controls>\n",
       "                <source src=\"data:video/mp4;base64,AAAAIGZ0eXBpc29tAAACAGlzb21pc28yYXZjMW1wNDEAAAAIZnJlZQAAF1NtZGF0AAACrQYF//+p3EXpvebZSLeWLNgg2SPu73gyNjQgLSBjb3JlIDE1MiByMjg1NCBlOWE1OTAzIC0gSC4yNjQvTVBFRy00IEFWQyBjb2RlYyAtIENvcHlsZWZ0IDIwMDMtMjAxNyAtIGh0dHA6Ly93d3cudmlkZW9sYW4ub3JnL3gyNjQuaHRtbCAtIG9wdGlvbnM6IGNhYmFjPTEgcmVmPTMgZGVibG9jaz0xOjA6MCBhbmFseXNlPTB4MToweDExMSBtZT1oZXggc3VibWU9NyBwc3k9MSBwc3lfcmQ9MS4wMDowLjAwIG1peGVkX3JlZj0xIG1lX3JhbmdlPTE2IGNocm9tYV9tZT0xIHRyZWxsaXM9MSA4eDhkY3Q9MCBjcW09MCBkZWFkem9uZT0yMSwxMSBmYXN0X3Bza2lwPTEgY2hyb21hX3FwX29mZnNldD00IHRocmVhZHM9NiBsb29rYWhlYWRfdGhyZWFkcz0xIHNsaWNlZF90aHJlYWRzPTAgbnI9MCBkZWNpbWF0ZT0xIGludGVybGFjZWQ9MCBibHVyYXlfY29tcGF0PTAgY29uc3RyYWluZWRfaW50cmE9MCBiZnJhbWVzPTMgYl9weXJhbWlkPTIgYl9hZGFwdD0xIGJfYmlhcz0wIGRpcmVjdD0xIHdlaWdodGI9MSBvcGVuX2dvcD0wIHdlaWdodHA9MiBrZXlpbnQ9MjUwIGtleWludF9taW49MjUgc2NlbmVjdXQ9NDAgaW50cmFfcmVmcmVzaD0wIHJjX2xvb2thaGVhZD00MCByYz1jcmYgbWJ0cmVlPTEgY3JmPTIzLjAgcWNvbXA9MC42MCBxcG1pbj0wIHFwbWF4PTY5IHFwc3RlcD00IGlwX3JhdGlvPTEuNDAgYXE9MToxLjAwAIAAAAL8ZYiEADf//vaH+BTZWBP+Wb/9DX/cj9uPrP1xYyEE31qvIejAGS+1H+b/rFFs6Z6UB/fgCJQAc24ZwpHZJ46w5MIvVHwKXAT74FNJkWfWMge3fQodhup/WWDcdtGBcEbhhTRC++ED/KpYEJ/qq5wNvSF+MUIdAbFm2lsaYjg3HuuaFbE9FnVtg5sPY2t57LS44DyaCsl1cpHRJyfBKfD0u8EdK5S1lToaujy2fn9UbcdrUu55EGMLxywhYszKcp+Pjkg7V7qP2foWT7YscZePW++yfBITca14gee1xBybQIEhJDJo4uW3tJbS4JizCWfhJ72SLh4ALNvV8rQ8CYJbdxgSeNG3m6iKIaF3P/rZR4angjiB8nO5rBkRJFMZhHfm4JNfzMfSLZC6bf2IEwXF3YtuK3lPtoCCp9YRtqTdV9jcgkhKvizh8AlMJz715H+dWy7Q+/2JR42JpX1xkXDgDeR203lHVmEIrPHE1e81t94NAjy3qsj3su/Ep/CLMWiB+imJmwBaOrala2/+CJPXdP/8C9QJ9FHZl4mgAvQXBNGm82SfNhkgogHYvtKvIN3163z/UnTNZckwf7yy44Hdhw67q7kfPfMP9Uyv7aYiTwQG5XZDnRJgo1lSAUl0VRdihnutU0qy0MPRVH9dw1AzW2nbUkQDM0+/k6IqynwGhH8SJpLGqEhSvK0uzJfEqadVimto5atFVays0Oo7z/TpIjgmoykFLwgGLLquVNBvjrtQ15jbeyIBTG0BUnIE191nzQwBbIksnf9TAbgIrO+/rsicQnCkiclqg7SZnebwmsc8ysrPcys5T0yGb+mgqgHB5iqjpldAXt4sLV7VdPXE+DmBkpf0beyhTm+j2IpHucEqk9LEjOtg0IaV5etWYVR40xut/kLBzqxkIGcuuOXYPU0uMa2fEGR/TLRMMdFcLNoNDFGemWCpG5EihP3yI5mNA2EMMSiPylW/d93QCrn6USv5tKafN+myktSWfib1VrbDDbUN0RoOtlAAA/sAAAAUQZohbEO//qmWAHdigzQB6S+v6SAAAAAVQZpFPCGTKYQ7//6plgB6EyEm4eXdAAAADUGeY2pTwv8AktABbKAAAAAQAZ6CdEK/AMi8m6O2+FTpgQAAABABnoRqQr8BLrWu6yGHI5GBAAAAE0GaiUmoQWiZTAh3//6plgAAlYEAAAAMQZ6nRREsL/8AALKBAAAAEAGexnRCvwDBZyd+AD7dU0AAAAAQAZ7IakK/AMFnJ3s8fbqmgAAAABNBms1JqEFsmUwId//+qZYAAJWBAAAADEGe60UVLC//AACygAAAABABnwp0Qr8AwWcnfgA+3VNAAAAAEAGfDGpCvwDBZyd7PH26poEAAAATQZsRSahBbJlMCHf//qmWAACVgQAAAAxBny9FFSwv/wAAsoEAAAAQAZ9OdEK/AMFnJ34APt1TQAAAABABn1BqQr8AwWcnezx9uqaAAAAAEkGbVUmoQWyZTAhv//6nhAABJwAAAAxBn3NFFSwv/wAAsoAAAAAQAZ+SdEK/AMFnJ34APt1TQAAAABABn5RqQr8AwWcnezx9uqaBAAAAHEGblkmoQWyZTAh3//6plgDCxYbot3VQOH+Ao+AAAAAiQZu6SeEKUmUwIb/+p4QELjM1Nm6d2qgQn74tmi2qyiRQQQAAABVBn9hFNEwv/wFlVpjA/RYtceFgo0kAAAAQAZ/3dEK/AcaMyI7FmKNOOAAAABABn/lqQr8B3x4PJcz4VJeBAAAAGkGb+0moQWiZTAh3//6plgIx2Y4WoJ+HiKSAAAAAHEGaH0nhClJlMCHf/qmWAgHaqBw/zZjSNxgWMqEAAAAQQZ49RTRML/8BW1XcewJK2QAAAA8Bnlx0Qr8B0edAZJcoyoAAAAAQAZ5eakK/Ad7tDm+HkSJccAAAABlBmkNJqEFomUwIb//+p4QD2nhPXRP8Jx6RAAAAEEGeYUURLC//AVtV3HsCStgAAAAPAZ6AdEK/ATa0YuA/LP1hAAAAEAGegmpCvwHehe9ImNZlh4AAAAAaQZqGSahBbJlMCG///qeEA+++z51wyE+c3oEAAAASQZ6kRRUsK/8B0bL9UexSHumBAAAADgGexWpCvwHSZ6cDaj3TAAAAGkGax0moQWyZTAh3//6plgDEePP3osOkDathAAAAEkGa60nhClJlMCHf/qmWAACVgAAAAAxBnwlFNEwv/wAAsoAAAAAQAZ8odEK/AMFnJ34APt1TQQAAABABnypqQr8AwWcnezx9uqaAAAAAE0GbL0moQWiZTAh3//6plgAAlYAAAAAMQZ9NRREsL/8AALKBAAAAEAGfbHRCvwDBZyd+AD7dU0EAAAAQAZ9uakK/AMFnJ3s8fbqmgQAAABNBm3NJqEFsmUwId//+qZYAAJWAAAAADEGfkUUVLC//AACygAAAABABn7B0Qr8AwWcnfgA+3VNBAAAAEAGfsmpCvwDBZyd7PH26poAAAAASQZu3SahBbJlMCG///qeEAAEnAAAADEGf1UUVLC//AACygQAAABABn/R0Qr8AwWcnfgA+3VNAAAAAEAGf9mpCvwDBZyd7PH26poEAAAAdQZv5SahBbJlMFEw3//6nhADtewf5ynXhRrcx16UAAAAPAZ4YakK/AMOS0qRQJVIeAAAAGEGaHUnhClJlMCGf/p4QA5qEe2vr77bScQAAABBBnjtFNEwv/wCO5+zcECFwAAAADwGeWnRCvwB5i/FwH5auwQAAABABnlxqQr8Aw7qnkwPXttSBAAAAGkGaXkmoQWiZTAhv//6nhAF/gCzbR/s+V3pAAAAAG0Gaf0nhClJlMCG//qeEAY3GY8jKIE7/m9ytgAAAAB5BmoNJ4Q6JlMCGf/6eEA5MtHP032PhifTErflixqUAAAARQZ6hRRE8L/8BW1XitEbeKdgAAAAPAZ7AdEK/AT+0d55xaPmBAAAAEAGewmpCvwHehe9ImNZlh4AAAAAZQZrESahBaJlMCG///qeEBC4zHkgx+bXiywAAABhBmuVJ4QpSZTAhv/6nhASSMx5IMfmR4pMAAAAXQZsISeEOiZTAhv/+p4QEr7McIspHikkAAAASQZ8mRRE8K/8B67MgXKH+UsHBAAAAEAGfR2pCvwHfH8XuhyQaR/gAAAAaQZtJSahBaJlMCHf//qmWAjHZjhagn4eIpIAAAAAbQZttSeEKUmUwId/+qZYCAdmPzPglnKDcE4bNAAAAEEGfi0U0TC//AVsRrbrBdMAAAAAQAZ+qdEK/AdF/AZJb/WyygAAAAA8Bn6xqQr8BxjUOhaNp1UEAAAAcQZuxSahBaJlMCHf//qmWAL16Mfo/uzFpuMUDUwAAABBBn89FESwv/wDXqvG9gii5AAAADwGf7nRCvwHGsVjCFWnVQAAAABABn/BqQr8BLs0bzTFW0crAAAAAGUGb9UmoQWyZTAh3//6plgC8HdHPx5/NA1MAAAAQQZ4TRRUsL/8A16rxvYIouAAAAA8BnjJ0Qr8Aw6SiFMEWqYAAAAAQAZ40akK/AS55omRNKzZswQAAABpBmjdJqEFsmUwUTDv//qmWAL16MfpAl0eC2gAAABABnlZqQr8BLs0bzTFW0crBAAAAGEGaW0nhClJlMCHf/qmWALwd0c/Hn80DUwAAABBBnnlFNEwv/wDXqvG9gii4AAAADwGemHRCvwDIvJvPOLTKgQAAABABnppqQr8BLnmiZE0rNmzAAAAAGUGan0moQWiZTAh3//6plgC9ejH6QJdHgtsAAAAQQZ69RREsL/8A16rxvYIouQAAAA4Bntx0Qr8BLtx3nnFpBwAAABABnt5qQr8BLs0bzTFW0crAAAAAE0Gaw0moQWyZTAh3//6plgAAlYEAAAAMQZ7hRRUsL/8AALKAAAAAEAGfAHRCvwDIvJujtvhU6YEAAAAPAZ8CakK/AMiCxolc8umVAAAAE0GbB0moQWyZTAh3//6plgAAlYEAAAAMQZ8lRRUsL/8AALKBAAAAEAGfRHRCvwDIvJujtvhU6YEAAAAQAZ9GakK/AS61rushhyORgQAAABNBm0tJqEFsmUwId//+qZYAAJWAAAAADEGfaUUVLC//AACygAAAABABn4h0Qr8AwWcnfgA+3VNBAAAAEAGfimpCvwDBZyd7PH26poAAAAATQZuPSahBbJlMCHf//qmWAACVgAAAAAxBn61FFSwv/wAAsoEAAAAQAZ/MdEK/AMFnJ34APt1TQQAAABABn85qQr8AwWcnezx9uqaBAAAAE0Gb00moQWyZTAh3//6plgAAlYAAAAAMQZ/xRRUsL/8AALKAAAAAEAGeEHRCvwDBZyd+AD7dU0EAAAAQAZ4SakK/AS61rushhyORgAAAABxBmhdJqEFsmUwIb//+p4QBcd+FGs23f0T/HM+YAAAAEEGeNUUVLC//ANeq8b2CKLkAAAAPAZ5UdEK/AMi8m884tMqAAAAAEAGeVmpCvwEueaJkTSs2bMEAAAAaQZpZSahBbJlMFEw7//6plgC9ejH6QJdHgtsAAAAQAZ54akK/AS7NG80xVtHKwAAAABtBmn1J4QpSZTAhv/6nhAGNxmamzbYt7qfEx/kAAAAQQZ6bRTRML/8A4idO/zdvWAAAAA8Bnrp0Qr8AyLybzzi0yoEAAAAPAZ68akK/ATbYjyYHr20HAAAAHEGav0moQWiZTBTw7/6plgJVZ0QLM+e70Y9MqtgAAAAQAZ7eakK/AeweDyYGv2WpgAAAABFBmsNJ4QpSZTAhv/6nhAABJwAAABBBnuFFNEwv/wFwiWrdY9p2AAAAEAGfAHRCvwHrgMmrOXMcQsEAAAAQAZ8CakK/AeweDyYGv2WpgAAAABlBmwZJqEFomUwIb//+p4QEr7Mbz4LaYNIPAAAAEkGfJEURLCv/AeuzIFyh/lLBwQAAABABn0VqQr8B3x/F7ockGkf5AAAAGUGbR0moQWyZTAhv//6nhARLsxvPgtp20j8AAAAZQZtqSeEKUmUwIb/+p4QD777PnXDIT5zegAAAABJBn4hFNEwr/wHRsv1R7FIe6YAAAAAQAZ+pakK/AcYImab6SDiRcQAAABpBm6tJqEFomUwId//+qZYAxHjz96LDpA2rYAAAABJBm89J4QpSZTAh3/6plgAAlYAAAAAMQZ/tRTRML/8AALKBAAAAEAGeDHRCvwDBZyd+AD7dU0EAAAAQAZ4OakK/AMFnJ3s8fbqmgQAAABJBmhNJqEFomUwIb//+p4QAAScAAAAMQZ4xRREsL/8AALKAAAAAEAGeUHRCvwDBZyd+AD7dU0EAAAAQAZ5SakK/AMFnJ3s8fbqmgAAAABpBmlRJqEFsmUwId//+qZYAd/2l/O6QphEYEAAAABtBmnhJ4QpSZTAh3/6plgBOfjz+XZ7ULIUue4EAAAAQQZ6WRTRML/8AXRlgnxugwAAAABABnrV0Qr8AfDieKTbJVNSBAAAADwGet2pCvwB5jUOhaNquwQAAABpBmrpJqEFomUwU8O/+qZYAThfu1G+PPoUkgAAAABABntlqQr8AfFmDyYHr26SBAAAAEkGa3knhClJlMCHf/qmWAACVgAAAAAxBnvxFNEwv/wAAsoEAAAAQAZ8bdEK/AMPZV3V+O7+BwQAAABABnx1qQr8Aw6VsXq7Dke/AAAAAE0GbAkmoQWiZTAh3//6plgAAlYAAAAAMQZ8gRREsL/8AALKBAAAAEAGfX3RCvwDD2Vd1fju/gcAAAAAQAZ9BakK/AMOlbF6uw5HvwQAAABNBm0ZJqEFsmUwId//+qZYAAJWAAAAADEGfZEUVLC//AACygQAAABABn4N0Qr8Aw9lXdX47v4HBAAAAEAGfhWpCvwDDpWxersOR78EAAAAaQZuJSahBbJlMCHf//qmWAHdTISbhwUfNGBEAAAAPQZ+nRRUsK/8Aw5LWaYHAAAAADwGfyGpCvwDIgsbA5TakgAAAABJBm81JqEFsmUwIb//+p4QAAScAAAATQZ/rRRUsL/8A13rljNuJyRefnwAAABABngp0Qr8BLxAHO2ONM+2gAAAAEAGeDGpCvwEuzRvNMVbRysEAAAASQZoRSahBbJlMCGf//p4QAAR9AAAADEGeL0UVLC//AACygQAAABABnk50Qr8AwWcnfgA+3VNAAAAAEAGeUGpCvwDBZyd7PH26poAAAAAZQZpSSahBbJlMCGf//p4QA5/r7+RIj6wh0wAAABhBmnNJ4QpSZTAhv/6nhACej5jyMT/LbTsAAAAYQZqUSeEOiZTAhv/+p4QAouK0ghE/y20zAAAAGUGatUnhDyZTAh3//qmWAFS0srM8hKQ0li0AAAAaQZrZSeEPJlMCG//+p4QA/fwGHz+7Wqn0IS8AAAAWQZ73RRE8L/8An0rHS40mrEEowo5npQAAAA8BnxZ0Qr8A18lm4NkvGXEAAAAQAZ8YakK/ANeR251oYXiSQAAAABlBmxxJqEFomUwIb//+p4QAq+K0ghE/y20jAAAAEkGfOkURLCv/AIrsV7CwX5bMgAAAAA8Bn1tqQr8Aiuzy3DZtTRsAAAAYQZtfSahBbJlMCG///qeEAKz7qc2BQV2VAAAAEkGffUUVLCv/ANfDS7u/pFZcQAAAAA4Bn55qQr8A15LjMHAy4gAAABxBm4BJqEFsmUwIb//+p4QA/Jxn+q31UMT90vSBAAAAG0GbpEnhClJlMCGf/p4QA+HwfA4f6hr2jw9SDgAAABBBn8JFNEwv/wCa5+5wsoD5AAAADwGf4XRCvwDXvJvPOLS7gAAAABABn+NqQr8A0pMk030kHFLxAAAAGUGb5UmoQWiZTAhn//6eEAPyU45/DnN9ZS8AAAAaQZoJS+EIQpSRGCCgH8gH9h4AhX/+OEAAEXEAAAAoQZ4nRTRML/8CAdzqS9szCrmA6Bq1qFxd3XFc1R3Oci0znB9zOmPYmQAAABABnkZ0Qr8A14AAZJb/W2BAAAAAJQGeSGpCvwKvY+1BxN2qw0km5aqGBy64hDa53yaPjP+TfrizymAAAAwgbW9vdgAAAGxtdmhkAAAAAAAAAAAAAAAAAAAD6AAAH5AAAQAAAQAAAAAAAAAAAAAAAAEAAAAAAAAAAAAAAAAAAAABAAAAAAAAAAAAAAAAAABAAAAAAAAAAAAAAAAAAAAAAAAAAAAAAAAAAAAAAAAAAgAAC0p0cmFrAAAAXHRraGQAAAADAAAAAAAAAAAAAAABAAAAAAAAH5AAAAAAAAAAAAAAAAAAAAAAAAEAAAAAAAAAAAAAAAAAAAABAAAAAAAAAAAAAAAAAABAAAAAARAAAAEQAAAAAAAkZWR0cwAAABxlbHN0AAAAAAAAAAEAAB+QAAAEAAABAAAAAArCbWRpYQAAACBtZGhkAAAAAAAAAAAAAAAAAAAyAAABlABVxAAAAAAALWhkbHIAAAAAAAAAAHZpZGUAAAAAAAAAAAAAAABWaWRlb0hhbmRsZXIAAAAKbW1pbmYAAAAUdm1oZAAAAAEAAAAAAAAAAAAAACRkaW5mAAAAHGRyZWYAAAAAAAAAAQAAAAx1cmwgAAAAAQAACi1zdGJsAAAAlXN0c2QAAAAAAAAAAQAAAIVhdmMxAAAAAAAAAAEAAAAAAAAAAAAAAAAAAAAAARABEABIAAAASAAAAAAAAAABAAAAAAAAAAAAAAAAAAAAAAAAAAAAAAAAAAAAAAAAAAAAGP//AAAAL2F2Y0MB9AAN/+EAF2f0AA2RmygiEdCAAAADAIAAABkHihTLAQAFaOvjxEgAAAAYc3R0cwAAAAAAAAABAAAAygAAAgAAAAAUc3RzcwAAAAAAAAABAAAAAQAABfhjdHRzAAAAAAAAAL0AAAACAAAEAAAAAAEAAAoAAAAAAQAABAAAAAABAAAAAAAAAAEAAAIAAAAAAQAACgAAAAABAAAEAAAAAAEAAAAAAAAAAQAAAgAAAAABAAAKAAAAAAEAAAQAAAAAAQAAAAAAAAABAAACAAAAAAEAAAoAAAAAAQAABAAAAAABAAAAAAAAAAEAAAIAAAAAAQAACgAAAAABAAAEAAAAAAEAAAAAAAAAAQAAAgAAAAABAAAEAAAAAAEAAAoAAAAAAQAABAAAAAABAAAAAAAAAAEAAAIAAAAAAQAABAAAAAABAAAKAAAAAAEAAAQAAAAAAQAAAAAAAAABAAACAAAAAAEAAAoAAAAAAQAABAAAAAABAAAAAAAAAAEAAAIAAAAAAQAACAAAAAACAAACAAAAAAEAAAQAAAAAAQAACgAAAAABAAAEAAAAAAEAAAAAAAAAAQAAAgAAAAABAAAKAAAAAAEAAAQAAAAAAQAAAAAAAAABAAACAAAAAAEAAAoAAAAAAQAABAAAAAABAAAAAAAAAAEAAAIAAAAAAQAACgAAAAABAAAEAAAAAAEAAAAAAAAAAQAAAgAAAAABAAAGAAAAAAEAAAIAAAAAAQAACgAAAAABAAAEAAAAAAEAAAAAAAAAAQAAAgAAAAACAAAEAAAAAAEAAAoAAAAAAQAABAAAAAABAAAAAAAAAAEAAAIAAAAAAgAABAAAAAABAAAIAAAAAAIAAAIAAAAAAQAABAAAAAABAAAKAAAAAAEAAAQAAAAAAQAAAAAAAAABAAACAAAAAAEAAAoAAAAAAQAABAAAAAABAAAAAAAAAAEAAAIAAAAAAQAACgAAAAABAAAEAAAAAAEAAAAAAAAAAQAAAgAAAAABAAAGAAAAAAEAAAIAAAAAAQAACgAAAAABAAAEAAAAAAEAAAAAAAAAAQAAAgAAAAABAAAKAAAAAAEAAAQAAAAAAQAAAAAAAAABAAACAAAAAAEAAAoAAAAAAQAABAAAAAABAAAAAAAAAAEAAAIAAAAAAQAACgAAAAABAAAEAAAAAAEAAAAAAAAAAQAAAgAAAAABAAAKAAAAAAEAAAQAAAAAAQAAAAAAAAABAAACAAAAAAEAAAoAAAAAAQAABAAAAAABAAAAAAAAAAEAAAIAAAAAAQAACgAAAAABAAAEAAAAAAEAAAAAAAAAAQAAAgAAAAABAAAKAAAAAAEAAAQAAAAAAQAAAAAAAAABAAACAAAAAAEAAAYAAAAAAQAAAgAAAAABAAAKAAAAAAEAAAQAAAAAAQAAAAAAAAABAAACAAAAAAEAAAYAAAAAAQAAAgAAAAABAAAKAAAAAAEAAAQAAAAAAQAAAAAAAAABAAACAAAAAAEAAAgAAAAAAgAAAgAAAAABAAAEAAAAAAEAAAgAAAAAAgAAAgAAAAABAAAEAAAAAAEAAAoAAAAAAQAABAAAAAABAAAAAAAAAAEAAAIAAAAAAQAACgAAAAABAAAEAAAAAAEAAAAAAAAAAQAAAgAAAAABAAAEAAAAAAEAAAoAAAAAAQAABAAAAAABAAAAAAAAAAEAAAIAAAAAAQAABgAAAAABAAACAAAAAAEAAAoAAAAAAQAABAAAAAABAAAAAAAAAAEAAAIAAAAAAQAACgAAAAABAAAEAAAAAAEAAAAAAAAAAQAAAgAAAAABAAAKAAAAAAEAAAQAAAAAAQAAAAAAAAABAAACAAAAAAEAAAgAAAAAAgAAAgAAAAABAAAKAAAAAAEAAAQAAAAAAQAAAAAAAAABAAACAAAAAAEAAAoAAAAAAQAABAAAAAABAAAAAAAAAAEAAAIAAAAABAAABAAAAAABAAAKAAAAAAEAAAQAAAAAAQAAAAAAAAABAAACAAAAAAEAAAgAAAAAAgAAAgAAAAABAAAIAAAAAAIAAAIAAAAAAQAABAAAAAABAAAKAAAAAAEAAAQAAAAAAQAAAAAAAAABAAACAAAAAAEAAAQAAAAAAQAACgAAAAABAAAEAAAAAAEAAAAAAAAAAQAAAgAAAAAcc3RzYwAAAAAAAAABAAAAAQAAAMoAAAABAAADPHN0c3oAAAAAAAAAAAAAAMoAAAWxAAAAGAAAABkAAAARAAAAFAAAABQAAAAXAAAAEAAAABQAAAAUAAAAFwAAABAAAAAUAAAAFAAAABcAAAAQAAAAFAAAABQAAAAWAAAAEAAAABQAAAAUAAAAIAAAACYAAAAZAAAAFAAAABQAAAAeAAAAIAAAABQAAAATAAAAFAAAAB0AAAAUAAAAEwAAABQAAAAeAAAAFgAAABIAAAAeAAAAFgAAABAAAAAUAAAAFAAAABcAAAAQAAAAFAAAABQAAAAXAAAAEAAAABQAAAAUAAAAFgAAABAAAAAUAAAAFAAAACEAAAATAAAAHAAAABQAAAATAAAAFAAAAB4AAAAfAAAAIgAAABUAAAATAAAAFAAAAB0AAAAcAAAAGwAAABYAAAAUAAAAHgAAAB8AAAAUAAAAFAAAABMAAAAgAAAAFAAAABMAAAAUAAAAHQAAABQAAAATAAAAFAAAAB4AAAAUAAAAHAAAABQAAAATAAAAFAAAAB0AAAAUAAAAEgAAABQAAAAXAAAAEAAAABQAAAATAAAAFwAAABAAAAAUAAAAFAAAABcAAAAQAAAAFAAAABQAAAAXAAAAEAAAABQAAAAUAAAAFwAAABAAAAAUAAAAFAAAACAAAAAUAAAAEwAAABQAAAAeAAAAFAAAAB8AAAAUAAAAEwAAABMAAAAgAAAAFAAAABUAAAAUAAAAFAAAABQAAAAdAAAAFgAAABQAAAAdAAAAHQAAABYAAAAUAAAAHgAAABYAAAAQAAAAFAAAABQAAAAWAAAAEAAAABQAAAAUAAAAHgAAAB8AAAAUAAAAFAAAABMAAAAeAAAAFAAAABYAAAAQAAAAFAAAABQAAAAXAAAAEAAAABQAAAAUAAAAFwAAABAAAAAUAAAAFAAAAB4AAAATAAAAEwAAABYAAAAXAAAAFAAAABQAAAAWAAAAEAAAABQAAAAUAAAAHQAAABwAAAAcAAAAHQAAAB4AAAAaAAAAEwAAABQAAAAdAAAAFgAAABMAAAAcAAAAFgAAABIAAAAgAAAAHwAAABQAAAATAAAAFAAAAB0AAAAeAAAALAAAABQAAAApAAAAFHN0Y28AAAAAAAAAAQAAADAAAABidWR0YQAAAFptZXRhAAAAAAAAACFoZGxyAAAAAAAAAABtZGlyYXBwbAAAAAAAAAAAAAAAAC1pbHN0AAAAJal0b28AAAAdZGF0YQAAAAEAAAAATGF2ZjU4LjIwLjEwMA==\" type=\"video/mp4\" />\n",
       "             </video>"
      ],
      "text/plain": [
       "<IPython.core.display.HTML object>"
      ]
     },
     "execution_count": 15,
     "metadata": {},
     "output_type": "execute_result"
    }
   ],
   "source": [
    "epochs_train= 51 # set small when debugging\n",
    "epochs_test= 10 # set small when debugging\n",
    "\n",
    "env = Environment(grid_size=size, max_time=T, temperature=0.3)\n",
    "agent = DQN_FC(size, lr=0.001, epsilon = 0.1, memory_size=2000, batch_size = 32)\n",
    "train(agent, env, epochs_train, prefix='fc_train')\n",
    "HTML(display_videos('fc_train50.mp4'))"
   ]
  },
  {
   "cell_type": "code",
   "execution_count": 16,
   "metadata": {
    "colab": {
     "base_uri": "https://localhost:8080/",
     "height": 205
    },
    "colab_type": "code",
    "id": "kzPkGUFnU6iq",
    "outputId": "c4415241-4437-4846-94b4-9bb98c808605"
   },
   "outputs": [
    {
     "name": "stdout",
     "output_type": "stream",
     "text": [
      "Win/lose count 8.5/3.0. Average score (5.5)\n",
      "Win/lose count 3.5/0. Average score (4.5)\n",
      "Win/lose count 9.5/3.0. Average score (5.166666666666667)\n",
      "Win/lose count 7.5/2.0. Average score (5.25)\n",
      "Win/lose count 14.5/5.0. Average score (6.1)\n",
      "Win/lose count 7.0/1.0. Average score (6.083333333333333)\n",
      "Win/lose count 5.0/0. Average score (5.928571428571429)\n",
      "Win/lose count 6.0/0. Average score (5.9375)\n",
      "Win/lose count 1.0/6.0. Average score (4.722222222222222)\n",
      "Win/lose count 4.5/2.0. Average score (4.5)\n",
      "Final score: 4.5\n"
     ]
    },
    {
     "data": {
      "text/html": [
       "<video alt=\"test\" controls>\n",
       "                <source src=\"data:video/mp4;base64,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\" type=\"video/mp4\" />\n",
       "             </video>"
      ],
      "text/plain": [
       "<IPython.core.display.HTML object>"
      ]
     },
     "execution_count": 16,
     "metadata": {},
     "output_type": "execute_result"
    }
   ],
   "source": [
    "test(agent,env,epochs_test,prefix='fc_test')\n",
    "HTML(display_videos('fc_test0.mp4'))"
   ]
  },
  {
   "cell_type": "markdown",
   "metadata": {},
   "source": [
    "> I used an Adam optimizer because I noticed a convergence that was smoother and quicker than with sgd. The a good value for the learning rate for this optimizer is 0.001."
   ]
  },
  {
   "cell_type": "markdown",
   "metadata": {
    "colab_type": "text",
    "id": "u_IDnv16SMAP"
   },
   "source": [
    "***\n",
    "***\n",
    "__Question 8__ Implement the DQN training algorithm using a CNN (for example, 2 convolutional layers and one final fully connected layer)."
   ]
  },
  {
   "cell_type": "code",
   "execution_count": 17,
   "metadata": {
    "colab": {},
    "colab_type": "code",
    "id": "-mb0_7I4vheb"
   },
   "outputs": [],
   "source": [
    "class DQN_CNN(DQN):\n",
    "    def __init__(self, *args,lr=0.1,**kwargs):\n",
    "        super(DQN_CNN, self).__init__(*args,**kwargs)\n",
    "        \n",
    "        ###### FILL IN\n",
    "        model = Sequential()\n",
    "        model.add(Conv2D(8, kernel_size = 2, strides = (1,1), padding = 'valid', input_shape = (5,5,self.n_state), activation = 'relu'))\n",
    "        model.add(Conv2D(16, kernel_size = 2, strides = (1,1), padding = 'valid', activation = 'relu'))\n",
    "        model.add(Flatten())\n",
    "        model.add(Dense(4))\n",
    "        model.compile(loss='mse', optimizer=Adam(lr=lr))\n",
    "        #model.summary()\n",
    "        self.model = model"
   ]
  },
  {
   "cell_type": "code",
   "execution_count": 18,
   "metadata": {
    "colab": {
     "base_uri": "https://localhost:8080/",
     "height": 1293
    },
    "colab_type": "code",
    "id": "0cNM8dqeSMAS",
    "outputId": "3009bb34-3437-44de-b2e8-9925cbc32c87"
   },
   "outputs": [
    {
     "name": "stdout",
     "output_type": "stream",
     "text": [
      "Epoch 000/051 | Loss 0.0032 | Win/lose count 3.0/4.0 (-1.0)\n",
      "Epoch 001/051 | Loss 0.0066 | Win/lose count 3.0/7.0 (-4.0)\n",
      "Epoch 002/051 | Loss 0.0046 | Win/lose count 4.5/7.0 (-2.5)\n",
      "Epoch 003/051 | Loss 0.0029 | Win/lose count 8.5/4.0 (4.5)\n",
      "Epoch 004/051 | Loss 0.0052 | Win/lose count 10.0/3.0 (7.0)\n",
      "Epoch 005/051 | Loss 0.0024 | Win/lose count 17.0/4.0 (13.0)\n",
      "Epoch 006/051 | Loss 0.0048 | Win/lose count 7.0/2.0 (5.0)\n",
      "Epoch 007/051 | Loss 0.0521 | Win/lose count 15.0/6.0 (9.0)\n",
      "Epoch 008/051 | Loss 0.0443 | Win/lose count 12.0/2.0 (10.0)\n",
      "Epoch 009/051 | Loss 0.0133 | Win/lose count 6.0/5.0 (1.0)\n",
      "Epoch 010/051 | Loss 0.0581 | Win/lose count 10.0/3.0 (7.0)\n",
      "Epoch 011/051 | Loss 0.0016 | Win/lose count 4.0/2.0 (2.0)\n",
      "Epoch 012/051 | Loss 0.0034 | Win/lose count 10.0/4.0 (6.0)\n",
      "Epoch 013/051 | Loss 0.0019 | Win/lose count 5.5/0 (5.5)\n",
      "Epoch 014/051 | Loss 0.0016 | Win/lose count 10.5/1.0 (9.5)\n",
      "Epoch 015/051 | Loss 0.0020 | Win/lose count 1.5/4.0 (-2.5)\n",
      "Epoch 016/051 | Loss 0.0019 | Win/lose count 13.0/2.0 (11.0)\n",
      "Epoch 017/051 | Loss 0.0019 | Win/lose count 9.0/5.0 (4.0)\n",
      "Epoch 018/051 | Loss 0.0030 | Win/lose count 12.0/3.0 (9.0)\n",
      "Epoch 019/051 | Loss 0.0016 | Win/lose count 12.0/1.0 (11.0)\n",
      "Epoch 020/051 | Loss 0.0016 | Win/lose count 6.0/2.0 (4.0)\n",
      "Epoch 021/051 | Loss 0.0045 | Win/lose count 11.5/3.0 (8.5)\n",
      "Epoch 022/051 | Loss 0.0018 | Win/lose count 13.5/4.0 (9.5)\n",
      "Epoch 023/051 | Loss 0.0039 | Win/lose count 4.5/3.0 (1.5)\n",
      "Epoch 024/051 | Loss 0.0019 | Win/lose count 13.0/1.0 (12.0)\n",
      "Epoch 025/051 | Loss 0.0017 | Win/lose count 18.0/8.0 (10.0)\n",
      "Epoch 026/051 | Loss 0.1172 | Win/lose count 15.0/3.0 (12.0)\n",
      "Epoch 027/051 | Loss 0.0011 | Win/lose count 8.0/5.0 (3.0)\n",
      "Epoch 028/051 | Loss 0.0024 | Win/lose count 11.5/1.0 (10.5)\n",
      "Epoch 029/051 | Loss 0.0024 | Win/lose count 7.5/7.0 (0.5)\n",
      "Epoch 030/051 | Loss 0.0010 | Win/lose count 9.5/2.0 (7.5)\n",
      "Epoch 031/051 | Loss 0.0020 | Win/lose count 15.5/3.0 (12.5)\n",
      "Epoch 032/051 | Loss 0.0013 | Win/lose count 8.5/4.0 (4.5)\n",
      "Epoch 033/051 | Loss 0.0041 | Win/lose count 15.5/4.0 (11.5)\n",
      "Epoch 034/051 | Loss 0.0489 | Win/lose count 3.5/3.0 (0.5)\n",
      "Epoch 035/051 | Loss 0.0022 | Win/lose count 10.5/1.0 (9.5)\n",
      "Epoch 036/051 | Loss 0.0040 | Win/lose count 15.0/5.0 (10.0)\n",
      "Epoch 037/051 | Loss 0.0010 | Win/lose count 10.0/3.0 (7.0)\n",
      "Epoch 038/051 | Loss 0.0018 | Win/lose count 16.0/1.0 (15.0)\n",
      "Epoch 039/051 | Loss 0.0043 | Win/lose count 8.5/4.0 (4.5)\n",
      "Epoch 040/051 | Loss 0.0011 | Win/lose count 16.0/3.0 (13.0)\n",
      "Epoch 041/051 | Loss 0.0534 | Win/lose count 25.0/5.0 (20.0)\n",
      "Epoch 042/051 | Loss 0.0012 | Win/lose count 12.0/1.0 (11.0)\n",
      "Epoch 043/051 | Loss 0.0019 | Win/lose count 21.0/1.0 (20.0)\n",
      "Epoch 044/051 | Loss 0.0525 | Win/lose count 20.0/2.0 (18.0)\n",
      "Epoch 045/051 | Loss 0.0024 | Win/lose count 13.0/0 (13.0)\n",
      "Epoch 046/051 | Loss 0.0044 | Win/lose count 10.5/6.0 (4.5)\n",
      "Epoch 047/051 | Loss 0.0014 | Win/lose count 14.0/1.0 (13.0)\n",
      "Epoch 048/051 | Loss 0.0024 | Win/lose count 22.0/8.0 (14.0)\n",
      "Epoch 049/051 | Loss 0.0041 | Win/lose count 7.0/1.0 (6.0)\n",
      "Epoch 050/051 | Loss 0.0026 | Win/lose count 28.0/2.0 (26.0)\n"
     ]
    },
    {
     "data": {
      "text/html": [
       "<video alt=\"test\" controls>\n",
       "                <source src=\"data:video/mp4;base64,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\" type=\"video/mp4\" />\n",
       "             </video>"
      ],
      "text/plain": [
       "<IPython.core.display.HTML object>"
      ]
     },
     "execution_count": 18,
     "metadata": {},
     "output_type": "execute_result"
    }
   ],
   "source": [
    "env = Environment(grid_size=size, max_time=T, temperature=0.3)\n",
    "agent = DQN_CNN(size, lr=0.001, epsilon = 0.1, memory_size=2000, batch_size = 32)\n",
    "train(agent,env,epochs_train,prefix='cnn_train')\n",
    "HTML(display_videos('cnn_train50.mp4'))"
   ]
  },
  {
   "cell_type": "code",
   "execution_count": 19,
   "metadata": {
    "colab": {
     "base_uri": "https://localhost:8080/",
     "height": 205
    },
    "colab_type": "code",
    "id": "2_LaYIl5d8aB",
    "outputId": "639360e7-2b49-4feb-c4fa-0000e208ca96"
   },
   "outputs": [
    {
     "name": "stdout",
     "output_type": "stream",
     "text": [
      "Win/lose count 14.5/1.0. Average score (13.5)\n",
      "Win/lose count 14.5/6.0. Average score (11.0)\n",
      "Win/lose count 15.0/2.0. Average score (11.666666666666666)\n",
      "Win/lose count 15.0/5.0. Average score (11.25)\n",
      "Win/lose count 15.5/2.0. Average score (11.7)\n",
      "Win/lose count 11.0/4.0. Average score (10.916666666666666)\n",
      "Win/lose count 17.5/5.0. Average score (11.142857142857142)\n",
      "Win/lose count 18.0/3.0. Average score (11.625)\n",
      "Win/lose count 20.0/4.0. Average score (12.11111111111111)\n",
      "Win/lose count 7.5/1.0. Average score (11.55)\n",
      "Final score: 11.55\n"
     ]
    },
    {
     "data": {
      "text/html": [
       "<video alt=\"test\" controls>\n",
       "                <source src=\"data:video/mp4;base64,AAAAIGZ0eXBpc29tAAACAGlzb21pc28yYXZjMW1wNDEAAAAIZnJlZQAAGV5tZGF0AAACrQYF//+p3EXpvebZSLeWLNgg2SPu73gyNjQgLSBjb3JlIDE1MiByMjg1NCBlOWE1OTAzIC0gSC4yNjQvTVBFRy00IEFWQyBjb2RlYyAtIENvcHlsZWZ0IDIwMDMtMjAxNyAtIGh0dHA6Ly93d3cudmlkZW9sYW4ub3JnL3gyNjQuaHRtbCAtIG9wdGlvbnM6IGNhYmFjPTEgcmVmPTMgZGVibG9jaz0xOjA6MCBhbmFseXNlPTB4MToweDExMSBtZT1oZXggc3VibWU9NyBwc3k9MSBwc3lfcmQ9MS4wMDowLjAwIG1peGVkX3JlZj0xIG1lX3JhbmdlPTE2IGNocm9tYV9tZT0xIHRyZWxsaXM9MSA4eDhkY3Q9MCBjcW09MCBkZWFkem9uZT0yMSwxMSBmYXN0X3Bza2lwPTEgY2hyb21hX3FwX29mZnNldD00IHRocmVhZHM9NiBsb29rYWhlYWRfdGhyZWFkcz0xIHNsaWNlZF90aHJlYWRzPTAgbnI9MCBkZWNpbWF0ZT0xIGludGVybGFjZWQ9MCBibHVyYXlfY29tcGF0PTAgY29uc3RyYWluZWRfaW50cmE9MCBiZnJhbWVzPTMgYl9weXJhbWlkPTIgYl9hZGFwdD0xIGJfYmlhcz0wIGRpcmVjdD0xIHdlaWdodGI9MSBvcGVuX2dvcD0wIHdlaWdodHA9MiBrZXlpbnQ9MjUwIGtleWludF9taW49MjUgc2NlbmVjdXQ9NDAgaW50cmFfcmVmcmVzaD0wIHJjX2xvb2thaGVhZD00MCByYz1jcmYgbWJ0cmVlPTEgY3JmPTIzLjAgcWNvbXA9MC42MCBxcG1pbj0wIHFwbWF4PTY5IHFwc3RlcD00IGlwX3JhdGlvPTEuNDAgYXE9MToxLjAwAIAAAALGZYiEADv//vb8/AptUwn/LZ/+iL/lb+9P2a61uFE7M7QacwPQC/3cd/Xi1bCrc27LcdG8bJkAU3Roif7wCeTfrxQrF9b03wKauk83wKShPS2O2ZiS+pkhSIn8Kefsu7R3F50i1oy+bAnY+UqD8saChYUjJxjRtVXQh9NABNTo+ifCuzRv08viect4Po9IADs4BW/VzzDruh0IGgEJql0DVGGn/kfCVyCjz6GiPLwFlPV8K1OgJCHJmBmB5WhoXF2RHS55xw4OSA7lpowAZvMdn0DV/TimeteIllWfrUZ6N0bbWtASXKcVz0wNwtAvjCEaBDut/XXMVvPI/greKcCLs1gRe8gHZteF2xoKXNgQoglAo5DHsu4d6oOziFKCfUEqixuExTVg3Iifu4fwc6KAQa+QL4IRuO4qixD7K7XBYOEi4wehvhbKudCoinOvM2cg6hvV3F4QSoHKAMuPShzyDdUdKGJQQxNXdrelMavMy8YDr2XmUvQwRNYgxIyaGFEBd+ponCoTmGL8m5jeYBILCkJYwLh+vHeOw4/JcPNJbdSqjz1CM5WY8zLyPyEJSEpJPJ/WbrD4wCR/Y3TFaGJFjeBmn3tE/T5ThgJs7XKVdFBUwEtHKmIAsV9VTb6Eun163E9GowL5vMAiWZJfsfCig1YEp8XedBZVsgnuBUf9JkVZRiOVvEX1vMV+9ohEC6knUlC3HCvZqtRYXQqczeEOCjKCzykE6lRIV3/B9XjtT/zOBclbLR9KQrYe+vPpM1QjYS7yfZZfFIfbIRaxMjDb1jJpfR0M/LAhGuPFJgeCLfDIV2dVmSw/dm7DnYn99fbF5wBAtGI+ufp6D6wgB1irYg8JDRWRpRqPgS36dKls7geohAALUHe/y+qb6xirYDXRHF8v4Ab0Fnv7hqpSgP/OFALFvDi7HZrZD2WTShv+nz/k1uAADFkAAAAfQZokbEN//qeEAE94OL1AEroAUOn2PV6bGluntYaXgAAAABNBnkJ4hf8AL83bz3Ko6dcfkSThAAAAEAGeYXRCvwA8vFmeV+Sm1UgAAAAQAZ5jakK/AD+MweTA9e4ggQAAAChBmmdJqEFomUwIb//+p4QAT4FBt4n9/dW7mWVbZD8Cks+/gUy2jntHAAAAE0GehUURLCv/AD+BAfAfp6zeu6EAAAAQAZ6makK/ACsxtdvawySgIQAAACpBmqpJqEFsmUwIZ//+nhAAg3xD/BYA5vwGZXgU19QZcClS0LgUzsDE6kAAAAATQZ7IRRUsK/8AG6Jb+A/T1m+FwAAAABABnulqQr8AElta7e1hkmrhAAAAGUGa60moQWyZTAhn//6eEAA43r7+RIj6w90AAAAZQZsMSeEKUmUwIb/+p4QACXfHT6jjQkPZQAAAABhBmy1J4Q6JlMCG//6nhAAGJ9g9ezPgjEUAAAAZQZtRSeEPJlMCGf/+nhAAFq4Mc/pHf39PQwAAABVBn29FETwv/wADgNX7UPbpRZcig7UAAAAQAZ+OdEK/AATV1aMkt/tbgAAAABABn5BqQr8ABNdnluGza1uAAAAAJUGbk0moQWiZTBTwz/6eEAA3ezJP4hHeL//iEZKj//Zm+vHvToEAAAAQAZ+yakK/AAuljxyv7cQ4wAAAABhBm7RJ4QpSZTAhn/6eEABWODHP4c5vrkcAAAAYQZvVSeEOiZTAhn/+nhAAgpwjn8Oc31tPAAAAGEGb9knhDyZTAhn//p4QAIaIcfzwX8kRnAAAABhBmhdJ4Q8mUwIZ//6eEACKiHH88F/JEX0AAAAZQZo4SeEPJlMCG//+p4QAI6PmPLldyHOXcQAAAB1BmlpJ4Q8mUwURPDf//qeEABdfdT9qvNqiMjIGugAAABABnnlqQr8AEtlcirwBQHKBAAAAGUGae0nhDyZTAhv//qeEAAm3x0+o40JD1sAAAAAZQZqfSeEPJlMCGf/+nhAAJKh/oGNPQX8bewAAABVBnr1FETwv/wAFroEU8GFQR+7V7QUAAAAPAZ7cdEK/AAUdOUKTbJaLAAAAEAGe3mpCvwAHmZ4F1/biMGAAAAAZQZrASahBaJlMCGf//p4QADiFOOfw5zfXmwAAABhBmuFJ4QpSZTAhn/6eEABYeDHP4c5vrj0AAAAYQZsCSeEOiZTAhn/+nhAAhpwjn8Oc31s/AAAAGkGbI0nhDyZTAhn//p4QANLIY5/DnxA4f4T/AAAAGEGbREnhDyZTAhv//qeEAFP9E/1KQCqgQQAAABlBm2VJ4Q8mUwIb//6nhAB+zjP9VvmPxDPhAAAAH0GbiUnhDyZTAhv//qeEAMy6tUx/quAx7sZBj/kz1YEAAAAQQZ+nRRE8L/8AeX9lUV0oIQAAAA8Bn8Z0Qr8AqGZO4NkvGdUAAAAPAZ/IakK/AP61ru+73dVAAAAAGUGby0moQWiZTBTwz/6eEAMj6+/psuaWF6UAAAAPAZ/qakK/AKg23SjSHiXVAAAAGUGb7EnhClJlMCG//qeEAH999n1HGhIcM+AAAAAeQZoOSeEOiZTBTRMM//6eEAFI903uAHVud1xH1ROVAAAAEAGeLWpCvwBDZPnOtDC8n4EAAAAYQZovSeEPJlMCGf/+nhAAzvr7+RIj6woPAAAAGEGaUEnhDyZTAhn//p4QAIN8Q/tkMfWFnwAAABlBmnFJ4Q8mUwIb//6nhAAWP3U/UcaEh0vAAAAAGEGakknhDyZTAhv//qeEAA43sHr2Z8EW7wAAABtBmrZJ4Q8mUwIb//6nhAAWIQy7t99nUW25KqAAAAARQZ7URRE8L/8ADTKu7/CxDQgAAAAPAZ7zdEK/AAtcYQGSXR+BAAAADwGe9WpCvwAR3Z5bhs2qkwAAABpBmvdJqEFomUwIb//+p4QAIagCzbbPs+bUwQAAAB1BmxlJ4QpSZTBREsO//qmWABnoLOUGaBT6MfplAwAAABABnzhqQr8AKyo0TImlZyBAAAAAGEGbPUnhDomUwIb//qeEADO+wf55RQd9DQAAABBBn1tFFTwv/wAeZOo3sEukAAAADwGfenRCvwAqEYQGSXMLgQAAABABn3xqQr8AKzSjeaYq2nDBAAAAGUGbf0moQWiZTBTw7/6plgAZ650j++r7tg4AAAAQAZ+eakK/ACoWRCbjPr09uAAAABhBm4NJ4QpSZTAhv/6nhAAzvsH+eUUHfQ0AAAAQQZ+hRTRML/8AHmTqN7BLpAAAAA8Bn8B0Qr8AKhGEBklzC4EAAAAQAZ/CakK/ACs0o3mmKtpwwAAAABpBm8RJqEFomUwId//+qZYAER+PP37INxUb4QAAABpBm+hJ4QpSZTAh3/6plgARhQT8rf77S+6PMQAAABVBngZFNEwv/wAVCgQTzYhu6Zy2uqUAAAAQAZ4ldEK/ABHXak8r8lN60QAAABABnidqQr8AHFZ4F1/biAvAAAAAGkGaLEmoQWiZTAh3//6plgARn48/l2kecjzAAAAAFUGeSkURLC//AB8T7/RYrt5r48g6BQAAABABnml0Qr8ALF0A52xxpp7gAAAAEAGea2pCvwArLbkVeAJ/4IAAAAAaQZpwSahBbJlMCHf//qmWABGF+7Ub48+h1oEAAAAVQZ6ORRUsL/8AFQoEE82IbumctrqlAAAAEAGerXRCvwAR12pPK/JTetEAAAAQAZ6vakK/ABxWeBdf24gLwAAAABpBmrRJqEFsmUwId//+qZYAEZ+PP5dpHnI8wAAAABVBntJFFSwv/wAfE+/0WK7ea+PIOgUAAAAQAZ7xdEK/ACxdAOdscaae4AAAABABnvNqQr8AKy25FXgCf+CAAAAAGUGa+EmoQWyZTAhv//6nhAAiq2lzN7qfGCkAAAAVQZ8WRRUsL/8AFQoEE82IbumctrqkAAAAEAGfNXRCvwAR12pPK/JTetEAAAAQAZ83akK/ABxWeBdf24gLwQAAABlBmzxJqEFsmUwIZ//+nhAAh3xD/FFAJrPMAAAAFUGfWkUVLC//AB8T7/RYrt5r48g6BQAAABABn3l0Qr8ALF0A52xxpp7gAAAAEAGfe2pCvwArLbkVeAJ/4IEAAAAaQZt9SahBbJlMCG///qeEABY/dT9RxoSHS8EAAAAcQZufSeEKUmUwUVLDf/6nhAAON7B/mrpoyMde0AAAABABn75qQr8AC6NuRV4AoIWAAAAAHEGboUnhDomUwUTDP/6eEAAkohyrcF52vr77iTEAAAAQAZ/AakK/AAeZnhDxoa0BgAAAABlBm8JJ4Q8mUwIb//6nhAAOecZ/qt8x+LjhAAAAGUGb40nhDyZTAhv//qeEABavRP9VvmPxScAAAAAZQZoESeEPJlMCHf/+qZYAEYRYboxCOfYa4QAAABpBmihJ4Q8mUwId//6plgARn48/l2ivmamPMQAAABVBnkZFETwv/wAfE+/0WK7ea+PIOgUAAAAQAZ5ldEK/ACxdAOdscaae4QAAABABnmdqQr8AKy25FXgCf+CAAAAAGkGabEmoQWiZTAh3//6plgARhfu1G+PPodaAAAAAFUGeikURLC//ABUKBBPNiG7pnLa6pQAAABABnql0Qr8AEddqTyvyU3rQAAAAEAGeq2pCvwAcVngXX9uIC8AAAAAaQZqwSahBbJlMCHf//qmWABGfjz+XaR5yPMEAAAAVQZ7ORRUsL/8AHxPv9Fiu3mvjyDoFAAAAEAGe7XRCvwAsXQDnbHGmnuEAAAAQAZ7vakK/ACstuRV4An/ggAAAABpBmvRJqEFsmUwId//+qZYAEYX7tRvjz6HWgAAAABVBnxJFFSwv/wAVCgQTzYhu6Zy2uqUAAAAQAZ8xdEK/ABHXak8r8lN60AAAABABnzNqQr8AHFZ4F1/biAvAAAAAGkGbOEmoQWyZTAh3//6plgARn48/l2kecjzBAAAAFUGfVkUVLC//AB8T7/RYrt5r48g6BAAAABABn3V0Qr8ALF0A52xxpp7hAAAAEAGfd2pCvwArLbkVeAJ/4IEAAAAaQZt8SahBbJlMCHf//qmWABGF+7Ub48+h1oAAAAAVQZ+aRRUsL/8AFQoEE82IbumctrqlAAAAEAGfuXRCvwAR12pPK/JTetAAAAAQAZ+7akK/ABxWeBdf24gLwQAAABpBm6BJqEFsmUwId//+qZYAEZ+PP5dpHnI8wQAAABVBn95FFSwv/wAfE+/0WK7ea+PIOgQAAAAQAZ/9dEK/ACxdAOdscaae4AAAABABn/9qQr8AKy25FXgCf+CBAAAAGUGb5EmoQWyZTAhv//6nhAAiq2lzN7qfGCkAAAAVQZ4CRRUsL/8AFQoEE82IbumctrqlAAAAEAGeIXRCvwAR12pPK/JTetAAAAAQAZ4jakK/ABxWeBdf24gLwQAAABlBmihJqEFsmUwIb//+p4QAIt8dPuZKy/jzAAAAFUGeRkUVLC//AB8T7/RYrt5r48g6BQAAABABnmV0Qr8ALF0A52xxpp7hAAAAEAGeZ2pCvwArLbkVeAJ/4IAAAAAaQZppSahBbJlMCG///qeEABY/dT9RxoSHS8AAAAAcQZqLSeEKUmUwUVLDv/6plgAHJ9pf1yCdk3W6XQAAABABnqpqQr8AC6NuRV4AoIWAAAAAEUGar0nhDomUwIb//qeEAAEnAAAAE0GezUUVPC//AAOLEtmpmWXIa4sAAAAQAZ7sdEK/AATV1aMkt/tbgQAAABABnu5qQr8ABNdnluGza1uBAAAAHEGa80moQWiZTAhv//6nhAAJaPmamzbjN7qfHKwAAAAQQZ8RRREsL/8ABa6BBShuaAAAAA8BnzB0Qr8AB27FYwhV9sEAAAAQAZ8yakK/AAeZnhDxoa0BgAAAABpBmzRJqEFsmUwIb//+p4QADnnGf6rfMfi44AAAABlBm1VJ4QpSZTAh3/6plgALb8gzQB6S+xcxAAAAEUGbeUnhDomUwIb//qeEAAEnAAAADEGfl0URPC//AACygQAAABABn7Z0Qr8AHFsVi8/gcpDBAAAAEAGfuGpCvwASJUjvZ4+4G4AAAAAaQZu6SahBaJlMCHf//qmWABGEWG6MQjn2GuEAAAAaQZveSeEKUmUwId/+qZYAEZ+PP5dor5mpjzAAAAAVQZ/8RTRML/8AHxPv9Fiu3mvjyDoFAAAAEAGeG3RCvwAsXQDnbHGmnuEAAAAQAZ4dakK/ACstuRV4An/ggAAAABpBmgJJqEFomUwId//+qZYAEYX7tRvjz6HWgAAAABVBniBFESwv/wAVCgQTzYhu6Zy2uqUAAAAQAZ5fdEK/ABHXak8r8lN60AAAABABnkFqQr8AHFZ4F1/biAvBAAAAGUGaRkmoQWyZTAhv//6nhAAi3x0+5krL+PMAAAAVQZ5kRRUsL/8AHxPv9Fiu3mvjyDoFAAAAEAGeg3RCvwAsXQDnbHGmnuEAAAAQAZ6FakK/ACstuRV4An/ggQAAABlBmopJqEFsmUwIb//+p4QAIqtpcze6nxgpAAAAFUGeqEUVLC//ABUKBBPNiG7pnLa6pAAAABABnsd0Qr8AEddqTyvyU3rQAAAAEAGeyWpCvwAcVngXX9uIC8EAAAAmQZrMSahBbJlMFEwz//6eEAFI4RDviEd4v/+IRkqP/9mb68e7R8AAAAAQAZ7rakK/AEN2eOV/bh+RwAAAABhBmu1J4QpSZTAhn/6eEAHwKcc/hzm+szcAAAAYQZsOSeEOiZTAhn/+nhAB8vf3dpzdxbd7AAAAIkGbMEnhDyZTBRE8M//+nhAEl+LdtzLLPn22yGPrBPdt37kAAAAQAZ9PakK/APKzwLr+3D5+YAAAABhBm1FJ4Q8mUwIZ//6eEASX4h51ugZIZTQAAAAYQZtySeEPJlMCGf/+nhAIE4Rz9af37sPTAAAAGEGbk0nhDyZTAhv//qeEAino5oK1mRXpvQAAAB1Bm7VJ4Q8mUwURPDP//p4QB8e1Hx1yMkq3KPJgwAAAAA8Bn9RqQr8BbGspm2ZGsekAAAAYQZvWSeEPJlMCGf/+nhAHG6+/i8VmvXN+AAAAG0Gb90nhDyZTAhv//qeEARQfMeRlECd/0aybgQAAAB1BmhlJ4Q8mUwURPDP//p4QBDfiH+CwBp4bYKn0EQAAABABnjhqQr8A4gQCdeAJ/N2AAAAAGEGaOknhDyZTAhv//qeEAHR9g9ezPgivJwAAAB1Bml1J4Q8mUwIZ//6eEAKg9zYfeqfajRyThjTiwAAAABBBnntFETwr/wCK7RCbC8XHAAAADwGenGpCvwCK9Ou78K2pMQAAABlBmp5JqEFomUwIZ//+nhABsfX3dpzdxbf8AAAAGUGav0nhClJlMCG//qeEAGx99n1HGhIcPSAAAAAdQZrBSeEOiZTBTRMM//6eEAEO+If4LAGnhtgqjBEAAAAQAZ7gakK/ADihAJ14An+tgAAAABhBmuJJ4Q8mUwIZ//6eEABxvX38iRH1hd0AAAAeQZsESeEPJlMFETwz//6eEABLviH8XR0+uRuzYrpIAAAAEAGfI2pCvwAPirg1x4q2uOEAAAAYQZslSeEPJlMCGf/+nhAAMT6+/kSI+sQvAAAAGEGbRknhDyZTAhn//p4QAB8vX3dpzdxeuwAAABhBm2dJ4Q8mUwIZ//6eEAAef19/IkR9Yr0AAAAbQZuJS+EIQ8kRggoB/IB/YeAURPCv/jhAABFwAAAAJgGfqGpCvwKvY+1BxN2qw0km5aqGByy1u80qIJosnUC0r0i0qdzQAAALsG1vb3YAAABsbXZoZAAAAAAAAAAAAAAAAAAAA+gAAB+QAAEAAAEAAAAAAAAAAAAAAAABAAAAAAAAAAAAAAAAAAAAAQAAAAAAAAAAAAAAAAAAQAAAAAAAAAAAAAAAAAAAAAAAAAAAAAAAAAAAAAAAAAIAAAradHJhawAAAFx0a2hkAAAAAwAAAAAAAAAAAAAAAQAAAAAAAB+QAAAAAAAAAAAAAAAAAAAAAAABAAAAAAAAAAAAAAAAAAAAAQAAAAAAAAAAAAAAAAAAQAAAAAEQAAABEAAAAAAAJGVkdHMAAAAcZWxzdAAAAAAAAAABAAAfkAAABAAAAQAAAAAKUm1kaWEAAAAgbWRoZAAAAAAAAAAAAAAAAAAAMgAAAZQAVcQAAAAAAC1oZGxyAAAAAAAAAAB2aWRlAAAAAAAAAAAAAAAAVmlkZW9IYW5kbGVyAAAACf1taW5mAAAAFHZtaGQAAAABAAAAAAAAAAAAAAAkZGluZgAAABxkcmVmAAAAAAAAAAEAAAAMdXJsIAAAAAEAAAm9c3RibAAAAJVzdHNkAAAAAAAAAAEAAACFYXZjMQAAAAAAAAABAAAAAAAAAAAAAAAAAAAAAAEQARAASAAAAEgAAAAAAAAAAQAAAAAAAAAAAAAAAAAAAAAAAAAAAAAAAAAAAAAAAAAAABj//wAAAC9hdmNDAfQADf/hABdn9AANkZsoIhHQgAAAAwCAAAAZB4oUywEABWjr48RIAAAAGHN0dHMAAAAAAAAAAQAAAMoAAAIAAAAAFHN0c3MAAAAAAAAAAQAAAAEAAAWIY3R0cwAAAAAAAACvAAAAAQAABAAAAAABAAAKAAAAAAEAAAQAAAAAAQAAAAAAAAABAAACAAAAAAEAAAgAAAAAAgAAAgAAAAABAAAIAAAAAAIAAAIAAAAAAwAABAAAAAABAAAKAAAAAAEAAAQAAAAAAQAAAAAAAAABAAACAAAAAAEAAAYAAAAAAQAAAgAAAAAFAAAEAAAAAAEAAAYAAAAAAQAAAgAAAAABAAAEAAAAAAEAAAoAAAAAAQAABAAAAAABAAAAAAAAAAEAAAIAAAAABgAABAAAAAABAAAKAAAAAAEAAAQAAAAAAQAAAAAAAAABAAACAAAAAAEAAAYAAAAAAQAAAgAAAAABAAAEAAAAAAEAAAYAAAAAAQAAAgAAAAAEAAAEAAAAAAEAAAoAAAAAAQAABAAAAAABAAAAAAAAAAEAAAIAAAAAAQAABAAAAAABAAAGAAAAAAEAAAIAAAAAAQAACgAAAAABAAAEAAAAAAEAAAAAAAAAAQAAAgAAAAABAAAGAAAAAAEAAAIAAAAAAQAACgAAAAABAAAEAAAAAAEAAAAAAAAAAQAAAgAAAAABAAAEAAAAAAEAAAoAAAAAAQAABAAAAAABAAAAAAAAAAEAAAIAAAAAAQAACgAAAAABAAAEAAAAAAEAAAAAAAAAAQAAAgAAAAABAAAKAAAAAAEAAAQAAAAAAQAAAAAAAAABAAACAAAAAAEAAAoAAAAAAQAABAAAAAABAAAAAAAAAAEAAAIAAAAAAQAACgAAAAABAAAEAAAAAAEAAAAAAAAAAQAAAgAAAAABAAAKAAAAAAEAAAQAAAAAAQAAAAAAAAABAAACAAAAAAEAAAQAAAAAAQAABgAAAAABAAACAAAAAAEAAAYAAAAAAQAAAgAAAAADAAAEAAAAAAEAAAoAAAAAAQAABAAAAAABAAAAAAAAAAEAAAIAAAAAAQAACgAAAAABAAAEAAAAAAEAAAAAAAAAAQAAAgAAAAABAAAKAAAAAAEAAAQAAAAAAQAAAAAAAAABAAACAAAAAAEAAAoAAAAAAQAABAAAAAABAAAAAAAAAAEAAAIAAAAAAQAACgAAAAABAAAEAAAAAAEAAAAAAAAAAQAAAgAAAAABAAAKAAAAAAEAAAQAAAAAAQAAAAAAAAABAAACAAAAAAEAAAoAAAAAAQAABAAAAAABAAAAAAAAAAEAAAIAAAAAAQAACgAAAAABAAAEAAAAAAEAAAAAAAAAAQAAAgAAAAABAAAKAAAAAAEAAAQAAAAAAQAAAAAAAAABAAACAAAAAAEAAAQAAAAAAQAABgAAAAABAAACAAAAAAEAAAoAAAAAAQAABAAAAAABAAAAAAAAAAEAAAIAAAAAAQAACgAAAAABAAAEAAAAAAEAAAAAAAAAAQAAAgAAAAACAAAEAAAAAAEAAAoAAAAAAQAABAAAAAABAAAAAAAAAAEAAAIAAAAAAQAABAAAAAABAAAKAAAAAAEAAAQAAAAAAQAAAAAAAAABAAACAAAAAAEAAAoAAAAAAQAABAAAAAABAAAAAAAAAAEAAAIAAAAAAQAACgAAAAABAAAEAAAAAAEAAAAAAAAAAQAAAgAAAAABAAAKAAAAAAEAAAQAAAAAAQAAAAAAAAABAAACAAAAAAEAAAYAAAAAAQAAAgAAAAACAAAEAAAAAAEAAAYAAAAAAQAAAgAAAAADAAAEAAAAAAEAAAYAAAAAAQAAAgAAAAACAAAEAAAAAAEAAAYAAAAAAQAAAgAAAAABAAAEAAAAAAEAAAgAAAAAAgAAAgAAAAACAAAEAAAAAAEAAAYAAAAAAQAAAgAAAAABAAAEAAAAAAEAAAYAAAAAAQAAAgAAAAADAAAEAAAAAAEAAAYAAAAAAQAAAgAAAAAcc3RzYwAAAAAAAAABAAAAAQAAAMoAAAABAAADPHN0c3oAAAAAAAAAAAAAAMoAAAV7AAAAIwAAABcAAAAUAAAAFAAAACwAAAAXAAAAFAAAAC4AAAAXAAAAFAAAAB0AAAAdAAAAHAAAAB0AAAAZAAAAFAAAABQAAAApAAAAFAAAABwAAAAcAAAAHAAAABwAAAAdAAAAIQAAABQAAAAdAAAAHQAAABkAAAATAAAAFAAAAB0AAAAcAAAAHAAAAB4AAAAcAAAAHQAAACMAAAAUAAAAEwAAABMAAAAdAAAAEwAAAB0AAAAiAAAAFAAAABwAAAAcAAAAHQAAABwAAAAfAAAAFQAAABMAAAATAAAAHgAAACEAAAAUAAAAHAAAABQAAAATAAAAFAAAAB0AAAAUAAAAHAAAABQAAAATAAAAFAAAAB4AAAAeAAAAGQAAABQAAAAUAAAAHgAAABkAAAAUAAAAFAAAAB4AAAAZAAAAFAAAABQAAAAeAAAAGQAAABQAAAAUAAAAHQAAABkAAAAUAAAAFAAAAB0AAAAZAAAAFAAAABQAAAAeAAAAIAAAABQAAAAgAAAAFAAAAB0AAAAdAAAAHQAAAB4AAAAZAAAAFAAAABQAAAAeAAAAGQAAABQAAAAUAAAAHgAAABkAAAAUAAAAFAAAAB4AAAAZAAAAFAAAABQAAAAeAAAAGQAAABQAAAAUAAAAHgAAABkAAAAUAAAAFAAAAB4AAAAZAAAAFAAAABQAAAAdAAAAGQAAABQAAAAUAAAAHQAAABkAAAAUAAAAFAAAAB4AAAAgAAAAFAAAABUAAAAXAAAAFAAAABQAAAAgAAAAFAAAABMAAAAUAAAAHgAAAB0AAAAVAAAAEAAAABQAAAAUAAAAHgAAAB4AAAAZAAAAFAAAABQAAAAeAAAAGQAAABQAAAAUAAAAHQAAABkAAAAUAAAAFAAAAB0AAAAZAAAAFAAAABQAAAAqAAAAFAAAABwAAAAcAAAAJgAAABQAAAAcAAAAHAAAABwAAAAhAAAAEwAAABwAAAAfAAAAIQAAABQAAAAcAAAAIQAAABQAAAATAAAAHQAAAB0AAAAhAAAAFAAAABwAAAAiAAAAFAAAABwAAAAcAAAAHAAAAB8AAAAqAAAAFHN0Y28AAAAAAAAAAQAAADAAAABidWR0YQAAAFptZXRhAAAAAAAAACFoZGxyAAAAAAAAAABtZGlyYXBwbAAAAAAAAAAAAAAAAC1pbHN0AAAAJal0b28AAAAdZGF0YQAAAAEAAAAATGF2ZjU4LjIwLjEwMA==\" type=\"video/mp4\" />\n",
       "             </video>"
      ],
      "text/plain": [
       "<IPython.core.display.HTML object>"
      ]
     },
     "execution_count": 19,
     "metadata": {},
     "output_type": "execute_result"
    }
   ],
   "source": [
    "test(agent,env,epochs_test,prefix='cnn_test')\n",
    "HTML(display_videos('cnn_test0.mp4'))"
   ]
  },
  {
   "cell_type": "markdown",
   "metadata": {
    "colab_type": "text",
    "id": "C4zxvk77SMAV"
   },
   "source": [
    "***\n",
    "***\n",
    "__Question 9__ Test both algorithms and compare their performances. Which issue(s) do you observe? Observe also different behaviors by changing the temperature."
   ]
  },
  {
   "cell_type": "code",
   "execution_count": 20,
   "metadata": {
    "colab": {
     "base_uri": "https://localhost:8080/",
     "height": 119
    },
    "colab_type": "code",
    "id": "OezBGqeFSMAV",
    "outputId": "5e59cf13-3038-4e18-af9c-c15b3f20b66e"
   },
   "outputs": [
    {
     "name": "stdout",
     "output_type": "stream",
     "text": [
      "Test of the CNN\n",
      "Win/lose count 10.0/3.0. Average score (7.0)\n",
      "Win/lose count 3.5/3.0. Average score (3.75)\n",
      "Win/lose count 14.5/6.0. Average score (5.333333333333333)\n",
      "Win/lose count 13.5/4.0. Average score (6.375)\n",
      "Win/lose count 7.5/1.0. Average score (6.4)\n",
      "Win/lose count 10.0/2.0. Average score (6.666666666666667)\n",
      "Win/lose count 15.5/3.0. Average score (7.5)\n",
      "Win/lose count 9.5/0. Average score (7.75)\n",
      "Win/lose count 15.0/1.0. Average score (8.444444444444445)\n",
      "Win/lose count 19.5/4.0. Average score (9.15)\n",
      "Final score: 9.15\n",
      "Test of the FC\n",
      "Win/lose count 8.0/4.0. Average score (4.0)\n",
      "Win/lose count 6.0/2.0. Average score (4.0)\n",
      "Win/lose count 11.5/4.0. Average score (5.166666666666667)\n",
      "Win/lose count 11.5/2.0. Average score (6.25)\n",
      "Win/lose count 4.5/3.0. Average score (5.3)\n",
      "Win/lose count 5.0/3.0. Average score (4.75)\n",
      "Win/lose count 8.0/0. Average score (5.214285714285714)\n",
      "Win/lose count 3.5/2.0. Average score (4.75)\n",
      "Win/lose count 7.5/1.0. Average score (4.944444444444445)\n",
      "Win/lose count 6.5/2.0. Average score (4.9)\n",
      "Final score: 4.9\n"
     ]
    }
   ],
   "source": [
    "env = Environment(grid_size=size, max_time=T,temperature=0.3)\n",
    "agent_cnn = DQN_CNN(size, lr=0.001, epsilon = 0.1, memory_size=2000, batch_size = 32)\n",
    "agent_cnn.load(name_weights='cnn_trainmodel.h5',name_model='cnn_trainmodel.json')\n",
    "\n",
    "agent_fc = DQN_FC(size, lr=0.001, epsilon = 0.1, memory_size=2000, batch_size = 32)\n",
    "agent_fc.load(name_weights='fc_trainmodel.h5',name_model='fc_trainmodel.json')\n",
    "print('Test of the CNN')\n",
    "test(agent_cnn,env,epochs_test,prefix='cnn_test')\n",
    "print('Test of the FC')\n",
    "test(agent_fc,env,epochs_test,prefix='fc_test')"
   ]
  },
  {
   "cell_type": "code",
   "execution_count": null,
   "metadata": {
    "colab": {
     "base_uri": "https://localhost:8080/",
     "height": 293
    },
    "colab_type": "code",
    "id": "Q9TeX9ieSMAX",
    "outputId": "db0db3ab-c3d1-439f-c0f3-56f97f9cfea8"
   },
   "outputs": [],
   "source": [
    "HTML(display_videos('cnn_test9.mp4'))"
   ]
  },
  {
   "cell_type": "code",
   "execution_count": null,
   "metadata": {
    "colab": {
     "base_uri": "https://localhost:8080/",
     "height": 293
    },
    "colab_type": "code",
    "id": "lQgvFdVmSMAa",
    "outputId": "82f58cdd-e7db-4847-d675-1995eb8f7ccd"
   },
   "outputs": [],
   "source": [
    "HTML(display_videos('fc_test3.mp4'))"
   ]
  },
  {
   "cell_type": "markdown",
   "metadata": {
    "colab_type": "text",
    "id": "2zb5hXQZSMAe"
   },
   "source": [
    ">On average, we observe that the results are better with the CNN than the FC agent. However, the agent still need to be improved because it is not exploring the map enough, and tend to oscillate too much.\n",
    ">\n",
    ">In the next cells, we compute the same experiments, but we increase the temperature in the test phase."
   ]
  },
  {
   "cell_type": "code",
   "execution_count": 33,
   "metadata": {},
   "outputs": [
    {
     "name": "stdout",
     "output_type": "stream",
     "text": [
      "Test of the CNN\n",
      "Win/lose count 30.0/2.0. Average score (28.0)\n",
      "Win/lose count 45.5/6.0. Average score (33.75)\n",
      "Win/lose count 32.5/2.0. Average score (32.666666666666664)\n",
      "Win/lose count 27.5/6.0. Average score (29.875)\n",
      "Win/lose count 33.0/5.0. Average score (29.5)\n",
      "Win/lose count 14.5/3.0. Average score (26.5)\n",
      "Win/lose count 28.0/4.0. Average score (26.142857142857142)\n",
      "Win/lose count 37.5/5.0. Average score (26.9375)\n",
      "Win/lose count 44.5/2.0. Average score (28.666666666666668)\n",
      "Win/lose count 31.5/3.0. Average score (28.65)\n",
      "Final score: 28.65\n",
      "Test of the FC\n",
      "Win/lose count 21.5/3.0. Average score (18.5)\n",
      "Win/lose count 21.0/5.0. Average score (17.25)\n",
      "Win/lose count 18.0/3.0. Average score (16.5)\n",
      "Win/lose count 38.0/2.0. Average score (21.375)\n",
      "Win/lose count 19.0/5.0. Average score (19.9)\n",
      "Win/lose count 19.5/1.0. Average score (19.666666666666668)\n",
      "Win/lose count 34.0/6.0. Average score (20.857142857142858)\n",
      "Win/lose count 23.0/4.0. Average score (20.625)\n",
      "Win/lose count 17.5/6.0. Average score (19.61111111111111)\n",
      "Win/lose count 6.0/0. Average score (18.25)\n",
      "Final score: 18.25\n"
     ]
    }
   ],
   "source": [
    "env = Environment(grid_size=size, max_time=T,temperature=0.7)\n",
    "agent_cnn = DQN_CNN(size, lr=0.001, epsilon = 0.1, memory_size=2000, batch_size = 32)\n",
    "agent_cnn.load(name_weights='cnn_trainmodel.h5',name_model='cnn_trainmodel.json')\n",
    "\n",
    "agent_fc = DQN_FC(size, lr=0.001, epsilon = 0.1, memory_size=2000, batch_size = 32)\n",
    "agent_fc.load(name_weights='fc_trainmodel.h5',name_model='fc_trainmodel.json')\n",
    "print('Test of the CNN')\n",
    "test(agent_cnn,env,epochs_test,prefix='cnn_test')\n",
    "print('Test of the FC')\n",
    "test(agent_fc,env,epochs_test,prefix='fc_test')"
   ]
  },
  {
   "cell_type": "code",
   "execution_count": 36,
   "metadata": {
    "colab": {
     "base_uri": "https://localhost:8080/",
     "height": 293
    },
    "colab_type": "code",
    "id": "Q9TeX9ieSMAX",
    "outputId": "db0db3ab-c3d1-439f-c0f3-56f97f9cfea8"
   },
   "outputs": [
    {
     "data": {
      "text/html": [
       "<video alt=\"test\" controls>\n",
       "                <source src=\"data:video/mp4;base64,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\" type=\"video/mp4\" />\n",
       "             </video>"
      ],
      "text/plain": [
       "<IPython.core.display.HTML object>"
      ]
     },
     "execution_count": 36,
     "metadata": {},
     "output_type": "execute_result"
    }
   ],
   "source": [
    "HTML(display_videos('cnn_test1.mp4'))"
   ]
  },
  {
   "cell_type": "code",
   "execution_count": 37,
   "metadata": {
    "colab": {
     "base_uri": "https://localhost:8080/",
     "height": 293
    },
    "colab_type": "code",
    "id": "lQgvFdVmSMAa",
    "outputId": "82f58cdd-e7db-4847-d675-1995eb8f7ccd"
   },
   "outputs": [
    {
     "data": {
      "text/html": [
       "<video alt=\"test\" controls>\n",
       "                <source src=\"data:video/mp4;base64,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\" type=\"video/mp4\" />\n",
       "             </video>"
      ],
      "text/plain": [
       "<IPython.core.display.HTML object>"
      ]
     },
     "execution_count": 37,
     "metadata": {},
     "output_type": "execute_result"
    }
   ],
   "source": [
    "HTML(display_videos('fc_test3.mp4'))"
   ]
  },
  {
   "cell_type": "markdown",
   "metadata": {},
   "source": [
    ">Several remarks:\n",
    ">\n",
    "> - The CNN agent performs again better on average than the FC agent.\n",
    ">\n",
    "> - We notice that the agent suffers less from exploration problems with a higher temperature\n",
    ">\n",
    "> - However, this second point is most probably caused by the fact that augmenting the temperature also increases the ratio cheese/poison, and thus, gives less chance for the agent to be stuck in an oscillation. This remark therefore motivates the following section."
   ]
  },
  {
   "cell_type": "markdown",
   "metadata": {
    "colab_type": "text",
    "id": "hPcmbS5iSMAe"
   },
   "source": [
    "***\n",
    "\n",
    "The algorithm tends to not explore the map which can be an issue. We propose two ideas in order to encourage exploration:\n",
    "1. Incorporating a decreasing $\\epsilon$-greedy exploration. You can use the method ```set_epsilon```\n",
    "2. Append via the environment a new state that describes if a cell has been visited or not\n",
    "\n",
    "***\n",
    "__Question 10__ Design a new ```train_explore``` function and environment class ```EnvironmentExploring``` to tackle the issue of exploration.\n",
    "\n"
   ]
  },
  {
   "cell_type": "code",
   "execution_count": 38,
   "metadata": {
    "colab": {
     "base_uri": "https://localhost:8080/",
     "height": 54
    },
    "colab_type": "code",
    "id": "i4ZIlmaASMAg",
    "outputId": "310d606c-8da1-4646-8b66-4f9f545760aa"
   },
   "outputs": [],
   "source": [
    "def train_explore(agent,env,epoch,prefix=''):\n",
    "    # Number of won games\n",
    "    score = 0\n",
    "    loss = 0\n",
    "    \n",
    "    final_eps = 0.01\n",
    "    decr_eps = (agent.epsilon-final_eps)/epoch\n",
    "    \n",
    "    for e in range(epoch):\n",
    "        # At each epoch, we restart to a fresh game and get the initial state\n",
    "        state = env.reset()\n",
    "        # This assumes that the games will terminate\n",
    "        game_over = False\n",
    "\n",
    "        win = 0\n",
    "        lose = 0\n",
    "\n",
    "        while not game_over:\n",
    "            # The agent performs an action\n",
    "            action = agent.act(state)\n",
    "\n",
    "            # Apply an action to the environment, get the next state, the reward\n",
    "            # and if the games end\n",
    "            prev_state = state\n",
    "            state, reward, game_over = env.act(action, train=True)\n",
    "\n",
    "            # Update the counters\n",
    "            if reward > 0:\n",
    "                win = win + reward\n",
    "            if reward < 0:\n",
    "                lose = lose - reward\n",
    "\n",
    "            # Apply the reinforcement strategy\n",
    "            loss = agent.reinforce(prev_state, state,  action, reward, game_over)\n",
    "        \n",
    "        #Decrease epsilon\n",
    "        agent.set_epsilon(agent.epsilon-decr_eps)\n",
    "\n",
    "        # Save as a mp4\n",
    "        if e % 10 == 0:\n",
    "            env.draw(prefix+str(e))\n",
    "        \n",
    "        # Update stats\n",
    "        score += win-lose\n",
    "\n",
    "        print(\"Epoch {:03d}/{:03d} | Loss {:.4f} | Win/lose count {}/{} ({})\"\n",
    "              .format(e, epoch, loss, win, lose, win-lose))\n",
    "        agent.save(name_weights=prefix+'model.h5',name_model=prefix+'model.json')\n",
    "        \n",
    "class EnvironmentExploring(object):\n",
    "    def __init__(self, grid_size=10, max_time=500, temperature=0.1):\n",
    "        grid_size = grid_size + 4\n",
    "        self.grid_size = grid_size\n",
    "        self.max_time = max_time\n",
    "        self.temperature = temperature\n",
    "\n",
    "        #board on which one plays\n",
    "        self.board = np.zeros((grid_size,grid_size))\n",
    "        self.position = np.zeros((grid_size,grid_size))\n",
    "        self.malus_position = np.zeros((grid_size,grid_size))\n",
    "\n",
    "        # coordinate of the cat\n",
    "        self.x = 0\n",
    "        self.y = 1\n",
    "\n",
    "        # self time\n",
    "        self.t = 0\n",
    "\n",
    "        self.scale=16\n",
    "\n",
    "        self.to_draw = np.zeros((max_time+2, grid_size*self.scale, grid_size*self.scale, 3))\n",
    "\n",
    "\n",
    "    def draw(self,e):\n",
    "        skvideo.io.vwrite(str(e) + '.mp4', self.to_draw)\n",
    "\n",
    "    def get_frame(self,t):\n",
    "        b = np.zeros((self.grid_size,self.grid_size,3))+128\n",
    "        b[self.board>0,0] = 256\n",
    "        b[self.board < 0, 2] = 256\n",
    "        b[self.x,self.y,:]=256\n",
    "        b[-2:,:,:]=0\n",
    "        b[:,-2:,:]=0\n",
    "        b[:2,:,:]=0\n",
    "        b[:,:2,:]=0\n",
    "        \n",
    "        b =  cv2.resize(b, None, fx=self.scale, fy=self.scale, interpolation=cv2.INTER_NEAREST)\n",
    "\n",
    "        self.to_draw[t,:,:,:]=b\n",
    "\n",
    "\n",
    "    def act(self, action, train=False):\n",
    "        \"\"\"This function returns the new state, reward and decides if the\n",
    "        game ends.\"\"\"\n",
    "\n",
    "        self.get_frame(int(self.t))\n",
    "\n",
    "        self.position = np.zeros((self.grid_size, self.grid_size))\n",
    "\n",
    "        self.position[0:2,:]= -1\n",
    "        self.position[:,0:2] = -1\n",
    "        self.position[-2:, :] = -1\n",
    "        self.position[-2:, :] = -1\n",
    "\n",
    "        self.position[self.x, self.y] = 1\n",
    "        if action == 0:\n",
    "            if self.x == self.grid_size-3:\n",
    "                self.x = self.x-1\n",
    "            else:\n",
    "                self.x = self.x + 1\n",
    "        elif action == 1:\n",
    "            if self.x == 2:\n",
    "                self.x = self.x+1\n",
    "            else:\n",
    "                self.x = self.x-1\n",
    "        elif action == 2:\n",
    "            if self.y == self.grid_size - 3:\n",
    "                self.y = self.y - 1\n",
    "            else:\n",
    "                self.y = self.y + 1\n",
    "        elif action == 3:\n",
    "            if self.y == 2:\n",
    "                self.y = self.y + 1\n",
    "            else:\n",
    "                self.y = self.y - 1\n",
    "        else:\n",
    "            RuntimeError('Error: action not recognized')\n",
    "\n",
    "        self.t = self.t + 1\n",
    "        \n",
    "        reward = 0\n",
    "        if train:\n",
    "            reward += -self.malus_position[self.x, self.y]\n",
    "        self.malus_position[self.x, self.y] = 0.1\n",
    "\n",
    "        self.t = self.t + 1\n",
    "        reward += self.board[self.x, self.y]\n",
    "        self.board[self.x, self.y] = 0\n",
    "        game_over = self.t > self.max_time\n",
    "        state = np.concatenate((self.malus_position.reshape(self.grid_size, self.grid_size, 1),\n",
    "                self.board.reshape(self.grid_size, self.grid_size, 1),\n",
    "                self.position.reshape(self.grid_size, self.grid_size,1)), axis=2)\n",
    "        \n",
    "        state = state[self.x-2:self.x+3,self.y-2:self.y+3,:]\n",
    "        \n",
    "        return state, reward, game_over\n",
    "\n",
    "    def reset(self):\n",
    "        \"\"\"This function resets the game and returns the initial state\"\"\"\n",
    "\n",
    "        self.x = np.random.randint(3, self.grid_size-3, size=1)[0]\n",
    "        self.y = np.random.randint(3, self.grid_size-3, size=1)[0]\n",
    "        \n",
    "        self.malus_position = np.zeros((self.grid_size, self.grid_size))\n",
    "\n",
    "        bonus = 0.5*np.random.binomial(1,self.temperature,size=self.grid_size**2)\n",
    "        bonus = bonus.reshape(self.grid_size,self.grid_size)\n",
    "\n",
    "        malus = -1.0*np.random.binomial(1,self.temperature,size=self.grid_size**2)\n",
    "        malus = malus.reshape(self.grid_size, self.grid_size)\n",
    "\n",
    "        self.to_draw = np.zeros((self.max_time+2, self.grid_size*self.scale, self.grid_size*self.scale, 3))\n",
    "\n",
    "\n",
    "        malus[bonus>0]=0\n",
    "\n",
    "        self.board = bonus + malus\n",
    "\n",
    "        self.position = np.zeros((self.grid_size, self.grid_size))\n",
    "        self.position[0:2,:]= -1\n",
    "        self.position[:,0:2] = -1\n",
    "        self.position[-2:, :] = -1\n",
    "        self.position[-2:, :] = -1\n",
    "        self.board[self.x,self.y] = 0\n",
    "        self.t = 0\n",
    "\n",
    "        state = np.concatenate((self.malus_position.reshape(self.grid_size, self.grid_size,1),\n",
    "                                self.board.reshape(self.grid_size, self.grid_size,1),\n",
    "                        self.position.reshape(self.grid_size, self.grid_size,1)),axis=2)\n",
    "\n",
    "        state = state[self.x-2:self.x+3,self.y-2:self.y+3,:]\n",
    "        return state"
   ]
  },
  {
   "cell_type": "code",
   "execution_count": 39,
   "metadata": {
    "colab": {
     "base_uri": "https://localhost:8080/",
     "height": 1309
    },
    "colab_type": "code",
    "id": "IHi_K0AGSMAj",
    "outputId": "071b813d-b18e-4279-89ad-5aeee7076483"
   },
   "outputs": [
    {
     "name": "stdout",
     "output_type": "stream",
     "text": [
      "Epoch 000/051 | Loss 0.0096 | Win/lose count 3.0/10.199999999999987 (-7.199999999999987)\n",
      "Epoch 001/051 | Loss 0.0126 | Win/lose count 4.5/10.099999999999984 (-5.599999999999984)\n",
      "Epoch 002/051 | Loss 0.0221 | Win/lose count 3.5/12.299999999999983 (-8.799999999999983)\n",
      "Epoch 003/051 | Loss 0.0078 | Win/lose count 2.5/10.399999999999979 (-7.899999999999979)\n",
      "Epoch 004/051 | Loss 0.0098 | Win/lose count 5.0/9.199999999999987 (-4.199999999999987)\n",
      "Epoch 005/051 | Loss 0.0054 | Win/lose count 6.5/8.299999999999992 (-1.7999999999999918)\n",
      "Epoch 006/051 | Loss 0.0043 | Win/lose count 9.0/7.1999999999999975 (1.8000000000000025)\n",
      "Epoch 007/051 | Loss 0.0056 | Win/lose count 14.5/8.699999999999996 (5.800000000000004)\n",
      "Epoch 008/051 | Loss 0.0150 | Win/lose count 11.5/9.799999999999988 (1.7000000000000117)\n",
      "Epoch 009/051 | Loss 0.0145 | Win/lose count 16.5/8.499999999999998 (8.000000000000002)\n",
      "Epoch 010/051 | Loss 0.0594 | Win/lose count 6.5/7.799999999999988 (-1.2999999999999883)\n",
      "Epoch 011/051 | Loss 0.0054 | Win/lose count 11.5/8.49999999999999 (3.0000000000000107)\n",
      "Epoch 012/051 | Loss 0.0102 | Win/lose count 8.5/8.899999999999988 (-0.3999999999999879)\n",
      "Epoch 013/051 | Loss 0.0460 | Win/lose count 13.0/7.199999999999994 (5.800000000000006)\n",
      "Epoch 014/051 | Loss 0.0377 | Win/lose count 5.5/11.29999999999998 (-5.799999999999979)\n",
      "Epoch 015/051 | Loss 0.0419 | Win/lose count 9.0/9.599999999999993 (-0.5999999999999925)\n",
      "Epoch 016/051 | Loss 0.0057 | Win/lose count 13.0/5.599999999999996 (7.400000000000004)\n",
      "Epoch 017/051 | Loss 0.0099 | Win/lose count 6.0/7.8999999999999915 (-1.8999999999999915)\n",
      "Epoch 018/051 | Loss 0.0193 | Win/lose count 6.0/9.699999999999989 (-3.6999999999999886)\n",
      "Epoch 019/051 | Loss 0.0483 | Win/lose count 10.0/9.699999999999989 (0.30000000000001137)\n",
      "Epoch 020/051 | Loss 0.0352 | Win/lose count 9.5/7.799999999999995 (1.7000000000000046)\n",
      "Epoch 021/051 | Loss 0.0161 | Win/lose count 15.0/5.0 (10.0)\n",
      "Epoch 022/051 | Loss 0.0104 | Win/lose count 12.0/12.099999999999994 (-0.09999999999999432)\n",
      "Epoch 023/051 | Loss 0.0327 | Win/lose count 15.0/5.799999999999995 (9.200000000000005)\n",
      "Epoch 024/051 | Loss 0.0110 | Win/lose count 3.0/11.799999999999985 (-8.799999999999985)\n",
      "Epoch 025/051 | Loss 0.0088 | Win/lose count 14.0/6.4999999999999964 (7.5000000000000036)\n",
      "Epoch 026/051 | Loss 0.0081 | Win/lose count 14.0/9.699999999999989 (4.300000000000011)\n",
      "Epoch 027/051 | Loss 0.0098 | Win/lose count 11.5/5.299999999999996 (6.200000000000004)\n",
      "Epoch 028/051 | Loss 0.0076 | Win/lose count 4.0/8.999999999999984 (-4.999999999999984)\n",
      "Epoch 029/051 | Loss 0.1059 | Win/lose count 3.0/9.599999999999985 (-6.599999999999985)\n",
      "Epoch 030/051 | Loss 0.0525 | Win/lose count 9.0/7.599999999999989 (1.400000000000011)\n",
      "Epoch 031/051 | Loss 0.0066 | Win/lose count 18.0/4.000000000000001 (14.0)\n",
      "Epoch 032/051 | Loss 0.0139 | Win/lose count 10.5/6.999999999999991 (3.500000000000009)\n",
      "Epoch 033/051 | Loss 0.0066 | Win/lose count 12.5/5.899999999999995 (6.600000000000005)\n",
      "Epoch 034/051 | Loss 0.0052 | Win/lose count 10.5/7.499999999999993 (3.000000000000007)\n",
      "Epoch 035/051 | Loss 0.0111 | Win/lose count 4.5/7.099999999999991 (-2.5999999999999908)\n",
      "Epoch 036/051 | Loss 0.0131 | Win/lose count 17.5/3.0000000000000013 (14.499999999999998)\n",
      "Epoch 037/051 | Loss 0.0041 | Win/lose count 23.0/2.2000000000000006 (20.8)\n",
      "Epoch 038/051 | Loss 0.0859 | Win/lose count 10.0/6.599999999999992 (3.4000000000000083)\n",
      "Epoch 039/051 | Loss 0.0059 | Win/lose count 7.5/6.8999999999999915 (0.6000000000000085)\n",
      "Epoch 040/051 | Loss 0.0071 | Win/lose count 15.0/4.5 (10.5)\n",
      "Epoch 041/051 | Loss 0.0050 | Win/lose count 11.0/6.399999999999997 (4.600000000000003)\n",
      "Epoch 042/051 | Loss 0.0029 | Win/lose count 11.0/6.599999999999997 (4.400000000000003)\n",
      "Epoch 043/051 | Loss 0.0910 | Win/lose count 19.5/3.500000000000001 (16.0)\n",
      "Epoch 044/051 | Loss 0.0865 | Win/lose count 15.0/6.1999999999999975 (8.800000000000002)\n",
      "Epoch 045/051 | Loss 0.0125 | Win/lose count 12.0/5.299999999999999 (6.700000000000001)\n",
      "Epoch 046/051 | Loss 0.0049 | Win/lose count 17.5/4.100000000000001 (13.399999999999999)\n",
      "Epoch 047/051 | Loss 0.0052 | Win/lose count 24.0/2.7000000000000006 (21.3)\n",
      "Epoch 048/051 | Loss 0.0088 | Win/lose count 17.0/4.300000000000001 (12.7)\n",
      "Epoch 049/051 | Loss 0.0074 | Win/lose count 5.0/7.999999999999988 (-2.9999999999999876)\n",
      "Epoch 050/051 | Loss 0.0071 | Win/lose count 14.5/4.699999999999999 (9.8)\n"
     ]
    },
    {
     "data": {
      "text/html": [
       "<video alt=\"test\" controls>\n",
       "                <source src=\"data:video/mp4;base64,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\" type=\"video/mp4\" />\n",
       "             </video>"
      ],
      "text/plain": [
       "<IPython.core.display.HTML object>"
      ]
     },
     "execution_count": 39,
     "metadata": {},
     "output_type": "execute_result"
    }
   ],
   "source": [
    "# Training\n",
    "env = EnvironmentExploring(grid_size=size, max_time=T, temperature=0.3)\n",
    "agent = DQN_CNN(size, lr=0.001, epsilon = 0.2, memory_size=2000, batch_size = 32,n_state=3)\n",
    "train_explore(agent, env, epochs_train, prefix='cnn_train_explore')\n",
    "HTML(display_videos('cnn_train_explore10.mp4'))"
   ]
  },
  {
   "cell_type": "code",
   "execution_count": 40,
   "metadata": {
    "colab": {},
    "colab_type": "code",
    "id": "6CJ378KQSMAk"
   },
   "outputs": [
    {
     "name": "stdout",
     "output_type": "stream",
     "text": [
      "Win/lose count 10.0/1.0. Average score (9.0)\n",
      "Win/lose count 9.0/0. Average score (9.0)\n",
      "Win/lose count 21.0/0. Average score (13.0)\n",
      "Win/lose count 13.0/0. Average score (13.0)\n",
      "Win/lose count 16.5/1.0. Average score (13.5)\n",
      "Win/lose count 8.5/0. Average score (12.666666666666666)\n",
      "Win/lose count 16.5/2.0. Average score (12.928571428571429)\n",
      "Win/lose count 18.5/0. Average score (13.625)\n",
      "Win/lose count 11.5/1.0. Average score (13.277777777777779)\n",
      "Win/lose count 19.5/0. Average score (13.9)\n",
      "Final score: 13.9\n"
     ]
    },
    {
     "data": {
      "text/html": [
       "<video alt=\"test\" controls>\n",
       "                <source src=\"data:video/mp4;base64,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\" type=\"video/mp4\" />\n",
       "             </video>"
      ],
      "text/plain": [
       "<IPython.core.display.HTML object>"
      ]
     },
     "execution_count": 40,
     "metadata": {},
     "output_type": "execute_result"
    }
   ],
   "source": [
    "# Evaluation\n",
    "test(agent,env,epochs_test,prefix='cnn_test_explore')\n",
    "HTML(display_videos('cnn_test_explore9.mp4'))"
   ]
  },
  {
   "cell_type": "markdown",
   "metadata": {},
   "source": [
    ">These improvements drastically leverage the lack of exploration problem, as we can see in this final video."
   ]
  },
  {
   "cell_type": "markdown",
   "metadata": {
    "colab_type": "text",
    "id": "4jTayE8dSMAp"
   },
   "source": [
    "***\n",
    "***\n",
    "__BONUS question__ Use the expert DQN from the previous question to generate some winning games. Train a model that mimicks its behavior. Compare the performances."
   ]
  },
  {
   "cell_type": "markdown",
   "metadata": {
    "colab_type": "text",
    "id": "GmOYMXUnSMAq"
   },
   "source": []
  },
  {
   "cell_type": "markdown",
   "metadata": {
    "colab_type": "text",
    "id": "nPrjJB1zSMAr"
   },
   "source": [
    "***"
   ]
  }
 ],
 "metadata": {
  "accelerator": "GPU",
  "colab": {
   "collapsed_sections": [],
   "name": "DQN_project_MVA.ipynb",
   "provenance": [],
   "toc_visible": true,
   "version": "0.3.2"
  },
  "kernelspec": {
   "display_name": "Python 3",
   "language": "python",
   "name": "python3"
  },
  "language_info": {
   "codemirror_mode": {
    "name": "ipython",
    "version": 3
   },
   "file_extension": ".py",
   "mimetype": "text/x-python",
   "name": "python",
   "nbconvert_exporter": "python",
   "pygments_lexer": "ipython3",
   "version": "3.6.6"
  }
 },
 "nbformat": 4,
 "nbformat_minor": 1
}
